{
 "cells": [
  {
   "cell_type": "code",
   "execution_count": 1,
   "id": "e0863cf4",
   "metadata": {},
   "outputs": [
    {
     "name": "stdout",
     "output_type": "stream",
     "text": [
      "Requirement already satisfied: python-lichess in c:\\users\\thoma\\anaconda3\\lib\\site-packages (0.10)\n",
      "Requirement already satisfied: requests in c:\\users\\thoma\\anaconda3\\lib\\site-packages (from python-lichess) (2.28.1)\n",
      "Requirement already satisfied: six in c:\\users\\thoma\\anaconda3\\lib\\site-packages (from python-lichess) (1.16.0)\n",
      "Requirement already satisfied: idna<4,>=2.5 in c:\\users\\thoma\\anaconda3\\lib\\site-packages (from requests->python-lichess) (3.3)\n",
      "Requirement already satisfied: certifi>=2017.4.17 in c:\\users\\thoma\\anaconda3\\lib\\site-packages (from requests->python-lichess) (2022.9.14)\n",
      "Requirement already satisfied: urllib3<1.27,>=1.21.1 in c:\\users\\thoma\\anaconda3\\lib\\site-packages (from requests->python-lichess) (1.26.11)\n",
      "Requirement already satisfied: charset-normalizer<3,>=2 in c:\\users\\thoma\\anaconda3\\lib\\site-packages (from requests->python-lichess) (2.0.4)\n",
      "Note: you may need to restart the kernel to use updated packages.\n"
     ]
    }
   ],
   "source": [
    "pip install python-lichess"
   ]
  },
  {
   "cell_type": "code",
   "execution_count": 2,
   "id": "91bc5850",
   "metadata": {},
   "outputs": [
    {
     "name": "stdout",
     "output_type": "stream",
     "text": [
      "Requirement already satisfied: python-chess in c:\\users\\thoma\\anaconda3\\lib\\site-packages (1.999)\n",
      "Requirement already satisfied: chess<2,>=1 in c:\\users\\thoma\\anaconda3\\lib\\site-packages (from python-chess) (1.9.4)\n",
      "Note: you may need to restart the kernel to use updated packages.\n"
     ]
    }
   ],
   "source": [
    "pip install python-chess"
   ]
  },
  {
   "cell_type": "code",
   "execution_count": 3,
   "id": "8a4c2ec9",
   "metadata": {},
   "outputs": [],
   "source": [
    "import lichess.api"
   ]
  },
  {
   "cell_type": "code",
   "execution_count": 4,
   "id": "ff4fe2d1",
   "metadata": {},
   "outputs": [
    {
     "name": "stdout",
     "output_type": "stream",
     "text": [
      "Requirement already satisfied: pySerial in c:\\users\\thoma\\anaconda3\\lib\\site-packages (3.5)\n"
     ]
    }
   ],
   "source": [
    "!pip install pySerial"
   ]
  },
  {
   "cell_type": "code",
   "execution_count": 5,
   "id": "b5e2fcdc",
   "metadata": {},
   "outputs": [],
   "source": [
    "import serial\n",
    "ser = serial.Serial('COM3', baudrate = 9600, timeout = 1)"
   ]
  },
  {
   "cell_type": "code",
   "execution_count": 6,
   "id": "f6857b01",
   "metadata": {},
   "outputs": [
    {
     "name": "stdout",
     "output_type": "stream",
     "text": [
      "Requirement already satisfied: berserk in c:\\users\\thoma\\anaconda3\\lib\\site-packages (0.10.0)\n",
      "Requirement already satisfied: deprecated~=1.2.7 in c:\\users\\thoma\\anaconda3\\lib\\site-packages (from berserk) (1.2.13)\n",
      "Requirement already satisfied: requests~=2.20 in c:\\users\\thoma\\anaconda3\\lib\\site-packages (from berserk) (2.28.1)\n",
      "Requirement already satisfied: ndjson~=0.2 in c:\\users\\thoma\\anaconda3\\lib\\site-packages (from berserk) (0.3.1)\n",
      "Requirement already satisfied: wrapt<2,>=1.10 in c:\\users\\thoma\\anaconda3\\lib\\site-packages (from deprecated~=1.2.7->berserk) (1.14.1)\n",
      "Requirement already satisfied: urllib3<1.27,>=1.21.1 in c:\\users\\thoma\\anaconda3\\lib\\site-packages (from requests~=2.20->berserk) (1.26.11)\n",
      "Requirement already satisfied: certifi>=2017.4.17 in c:\\users\\thoma\\anaconda3\\lib\\site-packages (from requests~=2.20->berserk) (2022.9.14)\n",
      "Requirement already satisfied: idna<4,>=2.5 in c:\\users\\thoma\\anaconda3\\lib\\site-packages (from requests~=2.20->berserk) (3.3)\n",
      "Requirement already satisfied: charset-normalizer<3,>=2 in c:\\users\\thoma\\anaconda3\\lib\\site-packages (from requests~=2.20->berserk) (2.0.4)\n"
     ]
    }
   ],
   "source": [
    "!pip install berserk"
   ]
  },
  {
   "cell_type": "code",
   "execution_count": 7,
   "id": "46df3493",
   "metadata": {},
   "outputs": [],
   "source": [
    "import berserk"
   ]
  },
  {
   "cell_type": "code",
   "execution_count": 8,
   "id": "8e068298",
   "metadata": {},
   "outputs": [],
   "source": [
    "# BOTKAIROS : lip_ndcKmSqJoPKlp6H3yDV1\n",
    "#lip_09gpe64RAdOHUTBN0CmK\n",
    "\n",
    "token = \"lip_09gpe64RAdOHUTBN0CmK\"\n",
    "session = berserk.TokenSession(token)\n",
    "client = berserk.Client(session=session)"
   ]
  },
  {
   "cell_type": "code",
   "execution_count": 9,
   "id": "dabef399",
   "metadata": {},
   "outputs": [],
   "source": [
    "# client.account.get()"
   ]
  },
  {
   "cell_type": "code",
   "execution_count": 10,
   "id": "4717b92a",
   "metadata": {},
   "outputs": [],
   "source": [
    "id_game = client.challenges.create_ai(level=8, clock_limit=None, clock_increment=None, days=None, color=\"black\", variant=None, position=None)['id']"
   ]
  },
  {
   "cell_type": "code",
   "execution_count": 11,
   "id": "77e61416",
   "metadata": {},
   "outputs": [
    {
     "data": {
      "text/plain": [
       "True"
      ]
     },
     "execution_count": 11,
     "metadata": {},
     "output_type": "execute_result"
    }
   ],
   "source": [
    "client.bots.make_move(id_game,\"a7a5\")"
   ]
  },
  {
   "cell_type": "code",
   "execution_count": 12,
   "id": "1906ab5b",
   "metadata": {},
   "outputs": [
    {
     "data": {
      "text/plain": [
       "'uOJMb5Kt'"
      ]
     },
     "execution_count": 12,
     "metadata": {},
     "output_type": "execute_result"
    }
   ],
   "source": [
    "id_game"
   ]
  },
  {
   "cell_type": "code",
   "execution_count": 13,
   "id": "2dafc590",
   "metadata": {},
   "outputs": [
    {
     "name": "stdout",
     "output_type": "stream",
     "text": [
      "[Event \"Casual Correspondence game\"]\n",
      "[Site \"https://lichess.org/uOJMb5Kt\"]\n",
      "[Date \"2023.01.28\"]\n",
      "[Round \"?\"]\n",
      "[White \"lichess AI level 8\"]\n",
      "[Black \"Tomasukii\"]\n",
      "[Result \"*\"]\n",
      "[BlackElo \"2000\"]\n",
      "[BlackTitle \"BOT\"]\n",
      "[ECO \"A10\"]\n",
      "[Opening \"English Opening\"]\n",
      "[Termination \"Unterminated\"]\n",
      "[TimeControl \"-\"]\n",
      "[UTCDate \"2023.01.28\"]\n",
      "[UTCTime \"19:08:06\"]\n",
      "[Variant \"Standard\"]\n",
      "[WhiteElo \"?\"]\n",
      "\n",
      "1. c4 a5 *\n"
     ]
    },
    {
     "data": {
      "text/plain": [
       "chess.Board"
      ]
     },
     "execution_count": 13,
     "metadata": {},
     "output_type": "execute_result"
    }
   ],
   "source": [
    "from lichess.format import PYCHESS\n",
    "game = lichess.api.game(id_game, format=PYCHESS)\n",
    "print(game)\n",
    "type(game.end().board())"
   ]
  },
  {
   "cell_type": "code",
   "execution_count": 14,
   "id": "62223acf",
   "metadata": {
    "scrolled": false
   },
   "outputs": [
    {
     "name": "stdout",
     "output_type": "stream",
     "text": [
      "<!DOCTYPE html><html lang=\"en-GB\"><!-- Lichess is open source! See https://lichess.org/source --><head><meta charset=\"utf-8\"><meta name=\"viewport\" content=\"width=device-width,initial-scale=1,viewport-fit=cover\"><meta http-equiv=\"Content-Security-Policy\" content=\"default-src 'self' lichess1.org; connect-src wss://0.peerjs.com 'self' lichess1.org wss://socket0.lichess.org wss://socket1.lichess.org wss://socket2.lichess.org wss://socket3.lichess.org wss://socket4.lichess.org wss://socket5.lichess.org https://explorer.lichess.ovh https://tablebase.lichess.ovh; style-src 'self' 'unsafe-inline' lichess1.org; frame-src 'self' lichess1.org www.youtube.com player.twitch.tv; worker-src 'self' lichess1.org; img-src data: *; script-src 'nonce-FUBjijTixasGsS6bYHCDognK' 'self' lichess1.org; font-src 'self' lichess1.org; base-uri 'none';\"><meta name=\"theme-color\" content=\"#2e2a24\"><title>Stockfish level 8 - BOT Tomasukii (2000) • lichess.org</title><link href=\"https://lichess1.org/assets/_jHqZg8/css/site.ltr.dark.min.css\" rel=\"stylesheet\" /><link href=\"https://lichess1.org/assets/_jHqZg8/css/round.ltr.dark.min.css\" rel=\"stylesheet\" /><link id=\"piece-sprite\" href=\"https://lichess1.org/assets/_jHqZg8/piece-css/cburnett.css\" rel=\"stylesheet\" /><meta content=\"Stockfish level 8 is playing BOT Tomasukii (2000) in a casual Correspondence game of chess. Game is still ongoing after 13 moves. Click to replay, analyse, and discuss the game!\" name=\"description\" /><link rel=\"mask-icon\" href=\"https://lichess1.org/assets/_jHqZg8/logo/lichess.svg\" color=\"black\" /><link rel=\"icon\" type=\"image/png\" href=\"https://lichess1.org/assets/_jHqZg8/logo/lichess-favicon-512.png\" sizes=\"512x512\"><link rel=\"icon\" type=\"image/png\" href=\"https://lichess1.org/assets/_jHqZg8/logo/lichess-favicon-256.png\" sizes=\"256x256\"><link rel=\"icon\" type=\"image/png\" href=\"https://lichess1.org/assets/_jHqZg8/logo/lichess-favicon-192.png\" sizes=\"192x192\"><link rel=\"icon\" type=\"image/png\" href=\"https://lichess1.org/assets/_jHqZg8/logo/lichess-favicon-128.png\" sizes=\"128x128\"><link rel=\"icon\" type=\"image/png\" href=\"https://lichess1.org/assets/_jHqZg8/logo/lichess-favicon-64.png\" sizes=\"64x64\"><link id=\"favicon\" rel=\"icon\" type=\"image/png\" href=\"https://lichess1.org/assets/_jHqZg8/logo/lichess-favicon-32.png\" sizes=\"32x32\"><meta content=\"noindex, nofollow\" name=\"robots\"><meta name=\"google\" content=\"notranslate\"><meta property=\"og:title\" content=\"Correspondence Chess • Stockfish level 8 vs BOT Tomasukii\" /><meta property=\"og:description\" content=\"Stockfish level 8 is playing BOT Tomasukii (2000) in a casual Correspondence game of chess. Game is still ongoing after 13 moves. Click to replay, analyse, and discuss the game!\" /><meta property=\"og:url\" content=\"https://lichess.org/obx7TLx8\" /><meta property=\"og:type\" content=\"website\" /><meta property=\"og:site_name\" content=\"lichess.org\" /><meta property=\"og:image\" content=\"https://lichess1.org/game/export/gif/thumbnail/obx7TLx8.gif\" /><meta name=\"twitter:card\" content=\"summary\" /><meta name=\"twitter:title\" content=\"Correspondence Chess • Stockfish level 8 vs BOT Tomasukii\" /><meta name=\"twitter:description\" content=\"Stockfish level 8 is playing BOT Tomasukii (2000) in a casual Correspondence game of chess. Game is still ongoing after 13 moves. Click to replay, analyse, and discuss the game!\" /><meta name=\"twitter:image\" content=\"https://lichess1.org/game/export/gif/thumbnail/obx7TLx8.gif\" /><link href=\"/blog.atom\" title=\"Blog\" type=\"application/atom+xml\" rel=\"alternate\" /><link rel=\"preload\" href=\"https://lichess1.org/assets/_jHqZg8/font/lichess.woff2\" as=\"font\" type=\"font/woff2\" crossorigin><link rel=\"preload\" href=\"https://lichess1.org/assets/_jHqZg8/font/noto-sans-v14-latin-regular.woff2\" as=\"font\" type=\"font/woff2\" crossorigin><link rel=\"preload\" href=\"https://lichess1.org/assets/_jHqZg8/font/lichess.chess.woff2\" as=\"font\" type=\"font/woff2\" crossorigin><link rel=\"preload\" href=\"https://lichess1.org/assets/_jHqZg8/images/board/svg/brown.svg\" as=\"image\" ><link rel=\"manifest\" href=\"/manifest.json\"><meta name=\"twitter:site\" content=\"@lichess\"><link rel=\"jslicense\" href=\"/source\"></head><body class=\"dark brown Woodi Basic coords-in\" data-sound-set=\"standard\" data-socket-domains=\"socket0.lichess.org,socket1.lichess.org,socket2.lichess.org,socket3.lichess.org,socket4.lichess.org,socket5.lichess.org\" data-asset-url=\"https://lichess1.org\" data-asset-version=\"jHqZg8\" data-theme=\"dark\" data-board-theme=\"brown\" data-piece-set=\"cburnett\" style=\"--zoom:85\"><form id=\"blind-mode\" action=\"/toggle-blind-mode\" method=\"POST\"><input type=\"hidden\" name=\"enable\" value=\"1\"><input type=\"hidden\" name=\"redirect\" value=\"/obx7TLx8\"><button type=\"submit\">Accessibility: Enable blind mode</button></form><header id=\"top\"><div class=\"site-title-nav\">\n",
      "<input type=\"checkbox\" id=\"tn-tg\" class=\"topnav-toggle fullscreen-toggle\" autocomplete=\"off\" aria-label=\"Navigation\">\n",
      "<label for=\"tn-tg\" class=\"fullscreen-mask\"></label>\n",
      "<label for=\"tn-tg\" class=\"hbg\"><span class=\"hbg__in\"></span></label><h1 class=\"site-title\"><a href=\"/\">lichess<span>.org</span></a></h1><nav id=\"topnav\" class=\"hover\"><section><a href=\"/\"><span class=\"play\">Play</span><span class=\"home\">lichess.org</span></a><div role=\"group\"><a href=\"/?any#hook\">Create a game</a><a href=\"/tournament\">Arena tournaments</a><a href=\"/swiss\">Swiss tournaments</a><a href=\"/simul\">Simultaneous exhibitions</a></div></section><section><a href=\"/training\">Puzzles</a><div role=\"group\"><a href=\"/training\">Puzzles</a><a href=\"/training/dashboard/30\">Puzzle Dashboard</a><a href=\"/streak\">Puzzle Streak</a><a href=\"/storm\">Puzzle Storm</a><a href=\"/racer\">Puzzle Racer</a></div></section><section><a href=\"/practice\">Learn</a><div role=\"group\"><a href=\"/learn\">Chess basics</a><a href=\"/practice\">Practice</a><a href=\"/training/coordinate\">Coordinates</a><a href=\"/study\">Study</a><a href=\"/coach\">Coaches</a></div></section><section><a href=\"/tv\">Watch</a><div role=\"group\"><a href=\"/tv\">Lichess TV</a><a href=\"/games\">Current games</a><a href=\"/streamer\">Streamers</a><a href=\"/broadcast\">Broadcasts</a><a href=\"/video\">Video library</a></div></section><section><a href=\"/player\">Community</a><div role=\"group\"><a href=\"/player\">Players</a><a href=\"/team\">Teams</a><a href=\"/forum\">Forum</a><a href=\"/blog/community\">Blog</a></div></section><section><a href=\"/analysis\">Tools</a><div role=\"group\"><a href=\"/analysis\">Analysis board</a><a href=\"/opening\">Openings</a><a href=\"/editor\">Board editor</a><a href=\"/paste\">Import game</a><a href=\"/games/search\">Advanced search</a></div></section></nav></div><div class=\"site-buttons\"><div id=\"clinput\"><a class=\"link\"><span data-icon=\"\"></span></a><input spellcheck=\"false\" autocomplete=\"false\" aria-label=\"Search\" placeholder=\"Search\" enterkeyhint=\"search\" /></div><div class=\"dasher\"><a class=\"toggle link anon\"><span title=\"Preferences\" data-icon=\"\"></span></a><div id=\"dasher_app\" class=\"dropdown\"></div>\n",
      "</div>\n",
      "<a href=\"/login?referrer=/obx7TLx8\" class=\"signin button button-empty\">Sign in</a></div></header><div id=\"main-wrap\" class=\"is2d\"><main class=\"round\"><aside class=\"round__side\"><div class=\"game__meta\"><section><div class=\"game__meta__infos\" data-icon=\"\"><div><div class=\"header\"><div class=\"setup\"><span title=\"Unlimited\">∞</span> • Casual • <a class=\"variant-link\" href=\"/faq#correspondence\" rel=\"noopener\" target=\"_blank\" title=\"Correspondence games: one or several days per move\">Correspondence</a></div><time class=\"timeago\" datetime=\"2023-01-28T17:53:08.912Z\">&nbsp;1 hour ago</time></div></div></div><div class=\"game__meta__players\"><div class=\"player color-icon is white text\"><span class=\"user-link\">Stockfish&nbsp;level&nbsp;8</span></div><div class=\"player color-icon is black text\"><a class=\"user-link ulpt\" href=\"/@/Tomasukii\"><span class=\"utitle\" data-bot=\"data-bot\" title=\"Chess Robot\">BOT</span>&nbsp;Tomasukii (<abbr title=\"Not enough rated games have been played to establish a reliable rating.\">2000?</abbr>)</a></div></div></section></div><div class=\"for-crawler\"><h1>Correspondence Chess • Stockfish level 8 vs BOT Tomasukii</h1><p>Stockfish level 8 is playing BOT Tomasukii (2000) in a casual Correspondence game of chess. Game is still ongoing after 13 moves. Click to replay, analyse, and discuss the game!</p><div class=\"pgn\">[Event &quot;Casual Correspondence game&quot;]\n",
      "[Site &quot;https://lichess.org/obx7TLx8&quot;]\n",
      "[Date &quot;2023.01.28&quot;]\n",
      "[White &quot;lichess AI level 8&quot;]\n",
      "[Black &quot;Tomasukii&quot;]\n",
      "[Result &quot;*&quot;]\n",
      "[UTCDate &quot;2023.01.28&quot;]\n",
      "[UTCTime &quot;17:53:08&quot;]\n",
      "[WhiteElo &quot;?&quot;]\n",
      "[BlackElo &quot;2000&quot;]\n",
      "[BlackTitle &quot;BOT&quot;]\n",
      "[Variant &quot;Standard&quot;]\n",
      "[TimeControl &quot;-&quot;]\n",
      "[ECO &quot;B00&quot;]\n",
      "[Opening &quot;Ware Defense&quot;]\n",
      "[Termination &quot;Unterminated&quot;]\n",
      "\n",
      "1. e4 a5 2. d4 Ra6 3. Bxa6 bxa6 4. Nf3 Nc6 5. d5 Nf6 6. dxc6 dxc6 7. Qxd8+ Kxd8 8. Nc3 Bg4 9. Ne5 Nxe4 10. Nxe4 h5 11. Nxf7+ Ke8 12. Nxh8 g6 13. Ng3 *</div></div></aside><div class=\"round__board main-board\"><div class=\"cg-wrap\"><cg-container><cg-board><square class=\"last-move\" style=\"top:50.0%;left:50.0%\"></square><square class=\"last-move\" style=\"top:62.5%;left:75.0%\"></square><piece class=\"white rook\" style=\"top:87.5%;left:0.0%\"></piece><piece class=\"white pawn\" style=\"top:75.0%;left:25.0%\"></piece><piece class=\"black pawn\" style=\"top:25.0%;left:25.0%\"></piece><piece class=\"black pawn\" style=\"top:25.0%;left:75.0%\"></piece><piece class=\"black bishop\" style=\"top:0.0%;left:62.5%\"></piece><piece class=\"black king\" style=\"top:0.0%;left:50.0%\"></piece><piece class=\"white pawn\" style=\"top:75.0%;left:12.5%\"></piece><piece class=\"white pawn\" style=\"top:75.0%;left:62.5%\"></piece><piece class=\"white bishop\" style=\"top:87.5%;left:25.0%\"></piece><piece class=\"black pawn\" style=\"top:37.5%;left:0.0%\"></piece><piece class=\"white knight\" style=\"top:62.5%;left:75.0%\"></piece><piece class=\"white knight\" style=\"top:0.0%;left:87.5%\"></piece><piece class=\"black pawn\" style=\"top:12.5%;left:25.0%\"></piece><piece class=\"black pawn\" style=\"top:25.0%;left:0.0%\"></piece><piece class=\"white pawn\" style=\"top:75.0%;left:0.0%\"></piece><piece class=\"black bishop\" style=\"top:50.0%;left:75.0%\"></piece><piece class=\"white king\" style=\"top:87.5%;left:50.0%\"></piece><piece class=\"white pawn\" style=\"top:75.0%;left:87.5%\"></piece><piece class=\"black pawn\" style=\"top:12.5%;left:50.0%\"></piece><piece class=\"white pawn\" style=\"top:75.0%;left:75.0%\"></piece><piece class=\"white rook\" style=\"top:87.5%;left:87.5%\"></piece><piece class=\"black pawn\" style=\"top:37.5%;left:87.5%\"></piece></cg-board></cg-container></div></div></main></div><a id=\"reconnecting\" class=\"link text\" data-icon=\"\">Reconnecting</a><svg width=\"0\" height=\"0\"><mask id=\"mask\"><path fill=\"#fff\" stroke=\"#fff\" stroke-linejoin=\"round\" d=\"M38.956.5c-3.53.418-6.452.902-9.286 2.984C5.534 1.786-.692 18.533.68 29.364 3.493 50.214 31.918 55.785 41.329 41.7c-7.444 7.696-19.276 8.752-28.323 3.084C3.959 39.116-.506 27.392 4.683 17.567 9.873 7.742 18.996 4.535 29.03 6.405c2.43-1.418 5.225-3.22 7.655-3.187l-1.694 4.86 12.752 21.37c-.439 5.654-5.459 6.112-5.459 6.112-.574-1.47-1.634-2.942-4.842-6.036-3.207-3.094-17.465-10.177-15.788-16.207-2.001 6.967 10.311 14.152 14.04 17.663 3.73 3.51 5.426 6.04 5.795 6.756 0 0 9.392-2.504 7.838-8.927L37.4 7.171z\"/></mask></svg><script nonce=\"FUBjijTixasGsS6bYHCDognK\">lichess={load:new Promise(r=>document.addEventListener(\"DOMContentLoaded\",r)),quantity:o=>1==o?\"one\":\"other\",siteI18n:{\"pause\":\"Pause\",\"resume\":\"Resume\",\"nbFriendsOnline:one\":\"%s friend online\",\"nbFriendsOnline\":\"%s friends online\",\"justNow\":\"just now\",\"inNbSeconds:one\":\"in %s second\",\"inNbSeconds\":\"in %s seconds\",\"inNbMinutes:one\":\"in %s minute\",\"inNbMinutes\":\"in %s minutes\",\"inNbHours:one\":\"in %s hour\",\"inNbHours\":\"in %s hours\",\"inNbDays:one\":\"in %s day\",\"inNbDays\":\"in %s days\",\"inNbWeeks:one\":\"in %s week\",\"inNbWeeks\":\"in %s weeks\",\"inNbMonths:one\":\"in %s month\",\"inNbMonths\":\"in %s months\",\"inNbYears:one\":\"in %s year\",\"inNbYears\":\"in %s years\",\"rightNow\":\"right now\",\"nbSecondsAgo:one\":\"%s second ago\",\"nbSecondsAgo\":\"%s seconds ago\",\"nbMinutesAgo:one\":\"%s minute ago\",\"nbMinutesAgo\":\"%s minutes ago\",\"nbHoursAgo:one\":\"%s hour ago\",\"nbHoursAgo\":\"%s hours ago\",\"nbDaysAgo:one\":\"%s day ago\",\"nbDaysAgo\":\"%s days ago\",\"nbWeeksAgo:one\":\"%s week ago\",\"nbWeeksAgo\":\"%s weeks ago\",\"nbMonthsAgo:one\":\"%s month ago\",\"nbMonthsAgo\":\"%s months ago\",\"nbYearsAgo:one\":\"%s year ago\",\"nbYearsAgo\":\"%s years ago\"}}</script><script defer=\"defer\" src=\"https://lichess1.org/assets/_jHqZg8/compiled/lichess.min.js\"></script></body></html>\n"
     ]
    }
   ],
   "source": [
    "import requests\n",
    "\n",
    "# Fonction pour obtenir les mouvements d'une partie en format PGN\n",
    "def get_pgn(game_id):\n",
    "    response = requests.get(f'https://lichess.org/{game_id}')\n",
    "    pgn = response.text\n",
    "    return pgn\n",
    "\n",
    "# Exemple d'utilisation de la fonction\n",
    "game_id = \"obx7TLx8\"\n",
    "pgn = get_pgn(game_id)\n",
    "print(pgn)\n"
   ]
  },
  {
   "cell_type": "code",
   "execution_count": 15,
   "id": "ad83d012",
   "metadata": {},
   "outputs": [
    {
     "data": {
      "text/plain": [
       "'<!DOCTYPE html><html lang=\"en-GB\"><!-- Lichess is open source! See https://lichess.org/source --><head><meta charset=\"utf-8\"><meta name=\"viewport\" content=\"width=device-width,initial-scale=1,viewport-fit=cover\"><meta http-equiv=\"Content-Security-Policy\" content=\"default-src \\'self\\' lichess1.org; connect-src wss://0.peerjs.com \\'self\\' lichess1.org wss://socket0.lichess.org wss://socket1.lichess.org wss://socket2.lichess.org wss://socket3.lichess.org wss://socket4.lichess.org wss://socket5.lichess.org https://explorer.lichess.ovh https://tablebase.lichess.ovh; style-src \\'self\\' \\'unsafe-inline\\' lichess1.org; frame-src \\'self\\' lichess1.org www.youtube.com player.twitch.tv; worker-src \\'self\\' lichess1.org; img-src data: *; script-src \\'nonce-FUBjijTixasGsS6bYHCDognK\\' \\'self\\' lichess1.org; font-src \\'self\\' lichess1.org; base-uri \\'none\\';\"><meta name=\"theme-color\" content=\"#2e2a24\"><title>Stockfish level 8 - BOT Tomasukii (2000) • lichess.org</title><link href=\"https://lichess1.org/assets/_jHqZg8/css/site.ltr.dark.min.css\" rel=\"stylesheet\" /><link href=\"https://lichess1.org/assets/_jHqZg8/css/round.ltr.dark.min.css\" rel=\"stylesheet\" /><link id=\"piece-sprite\" href=\"https://lichess1.org/assets/_jHqZg8/piece-css/cburnett.css\" rel=\"stylesheet\" /><meta content=\"Stockfish level 8 is playing BOT Tomasukii (2000) in a casual Correspondence game of chess. Game is still ongoing after 13 moves. Click to replay, analyse, and discuss the game!\" name=\"description\" /><link rel=\"mask-icon\" href=\"https://lichess1.org/assets/_jHqZg8/logo/lichess.svg\" color=\"black\" /><link rel=\"icon\" type=\"image/png\" href=\"https://lichess1.org/assets/_jHqZg8/logo/lichess-favicon-512.png\" sizes=\"512x512\"><link rel=\"icon\" type=\"image/png\" href=\"https://lichess1.org/assets/_jHqZg8/logo/lichess-favicon-256.png\" sizes=\"256x256\"><link rel=\"icon\" type=\"image/png\" href=\"https://lichess1.org/assets/_jHqZg8/logo/lichess-favicon-192.png\" sizes=\"192x192\"><link rel=\"icon\" type=\"image/png\" href=\"https://lichess1.org/assets/_jHqZg8/logo/lichess-favicon-128.png\" sizes=\"128x128\"><link rel=\"icon\" type=\"image/png\" href=\"https://lichess1.org/assets/_jHqZg8/logo/lichess-favicon-64.png\" sizes=\"64x64\"><link id=\"favicon\" rel=\"icon\" type=\"image/png\" href=\"https://lichess1.org/assets/_jHqZg8/logo/lichess-favicon-32.png\" sizes=\"32x32\"><meta content=\"noindex, nofollow\" name=\"robots\"><meta name=\"google\" content=\"notranslate\"><meta property=\"og:title\" content=\"Correspondence Chess • Stockfish level 8 vs BOT Tomasukii\" /><meta property=\"og:description\" content=\"Stockfish level 8 is playing BOT Tomasukii (2000) in a casual Correspondence game of chess. Game is still ongoing after 13 moves. Click to replay, analyse, and discuss the game!\" /><meta property=\"og:url\" content=\"https://lichess.org/obx7TLx8\" /><meta property=\"og:type\" content=\"website\" /><meta property=\"og:site_name\" content=\"lichess.org\" /><meta property=\"og:image\" content=\"https://lichess1.org/game/export/gif/thumbnail/obx7TLx8.gif\" /><meta name=\"twitter:card\" content=\"summary\" /><meta name=\"twitter:title\" content=\"Correspondence Chess • Stockfish level 8 vs BOT Tomasukii\" /><meta name=\"twitter:description\" content=\"Stockfish level 8 is playing BOT Tomasukii (2000) in a casual Correspondence game of chess. Game is still ongoing after 13 moves. Click to replay, analyse, and discuss the game!\" /><meta name=\"twitter:image\" content=\"https://lichess1.org/game/export/gif/thumbnail/obx7TLx8.gif\" /><link href=\"/blog.atom\" title=\"Blog\" type=\"application/atom+xml\" rel=\"alternate\" /><link rel=\"preload\" href=\"https://lichess1.org/assets/_jHqZg8/font/lichess.woff2\" as=\"font\" type=\"font/woff2\" crossorigin><link rel=\"preload\" href=\"https://lichess1.org/assets/_jHqZg8/font/noto-sans-v14-latin-regular.woff2\" as=\"font\" type=\"font/woff2\" crossorigin><link rel=\"preload\" href=\"https://lichess1.org/assets/_jHqZg8/font/lichess.chess.woff2\" as=\"font\" type=\"font/woff2\" crossorigin><link rel=\"preload\" href=\"https://lichess1.org/assets/_jHqZg8/images/board/svg/brown.svg\" as=\"image\" ><link rel=\"manifest\" href=\"/manifest.json\"><meta name=\"twitter:site\" content=\"@lichess\"><link rel=\"jslicense\" href=\"/source\"></head><body class=\"dark brown Woodi Basic coords-in\" data-sound-set=\"standard\" data-socket-domains=\"socket0.lichess.org,socket1.lichess.org,socket2.lichess.org,socket3.lichess.org,socket4.lichess.org,socket5.lichess.org\" data-asset-url=\"https://lichess1.org\" data-asset-version=\"jHqZg8\" data-theme=\"dark\" data-board-theme=\"brown\" data-piece-set=\"cburnett\" style=\"--zoom:85\"><form id=\"blind-mode\" action=\"/toggle-blind-mode\" method=\"POST\"><input type=\"hidden\" name=\"enable\" value=\"1\"><input type=\"hidden\" name=\"redirect\" value=\"/obx7TLx8\"><button type=\"submit\">Accessibility: Enable blind mode</button></form><header id=\"top\"><div class=\"site-title-nav\">\\n<input type=\"checkbox\" id=\"tn-tg\" class=\"topnav-toggle fullscreen-toggle\" autocomplete=\"off\" aria-label=\"Navigation\">\\n<label for=\"tn-tg\" class=\"fullscreen-mask\"></label>\\n<label for=\"tn-tg\" class=\"hbg\"><span class=\"hbg__in\"></span></label><h1 class=\"site-title\"><a href=\"/\">lichess<span>.org</span></a></h1><nav id=\"topnav\" class=\"hover\"><section><a href=\"/\"><span class=\"play\">Play</span><span class=\"home\">lichess.org</span></a><div role=\"group\"><a href=\"/?any#hook\">Create a game</a><a href=\"/tournament\">Arena tournaments</a><a href=\"/swiss\">Swiss tournaments</a><a href=\"/simul\">Simultaneous exhibitions</a></div></section><section><a href=\"/training\">Puzzles</a><div role=\"group\"><a href=\"/training\">Puzzles</a><a href=\"/training/dashboard/30\">Puzzle Dashboard</a><a href=\"/streak\">Puzzle Streak</a><a href=\"/storm\">Puzzle Storm</a><a href=\"/racer\">Puzzle Racer</a></div></section><section><a href=\"/practice\">Learn</a><div role=\"group\"><a href=\"/learn\">Chess basics</a><a href=\"/practice\">Practice</a><a href=\"/training/coordinate\">Coordinates</a><a href=\"/study\">Study</a><a href=\"/coach\">Coaches</a></div></section><section><a href=\"/tv\">Watch</a><div role=\"group\"><a href=\"/tv\">Lichess TV</a><a href=\"/games\">Current games</a><a href=\"/streamer\">Streamers</a><a href=\"/broadcast\">Broadcasts</a><a href=\"/video\">Video library</a></div></section><section><a href=\"/player\">Community</a><div role=\"group\"><a href=\"/player\">Players</a><a href=\"/team\">Teams</a><a href=\"/forum\">Forum</a><a href=\"/blog/community\">Blog</a></div></section><section><a href=\"/analysis\">Tools</a><div role=\"group\"><a href=\"/analysis\">Analysis board</a><a href=\"/opening\">Openings</a><a href=\"/editor\">Board editor</a><a href=\"/paste\">Import game</a><a href=\"/games/search\">Advanced search</a></div></section></nav></div><div class=\"site-buttons\"><div id=\"clinput\"><a class=\"link\"><span data-icon=\"\\ue06c\"></span></a><input spellcheck=\"false\" autocomplete=\"false\" aria-label=\"Search\" placeholder=\"Search\" enterkeyhint=\"search\" /></div><div class=\"dasher\"><a class=\"toggle link anon\"><span title=\"Preferences\" data-icon=\"\\ue019\"></span></a><div id=\"dasher_app\" class=\"dropdown\"></div>\\n</div>\\n<a href=\"/login?referrer=/obx7TLx8\" class=\"signin button button-empty\">Sign in</a></div></header><div id=\"main-wrap\" class=\"is2d\"><main class=\"round\"><aside class=\"round__side\"><div class=\"game__meta\"><section><div class=\"game__meta__infos\" data-icon=\"\\ue061\"><div><div class=\"header\"><div class=\"setup\"><span title=\"Unlimited\">∞</span> • Casual • <a class=\"variant-link\" href=\"/faq#correspondence\" rel=\"noopener\" target=\"_blank\" title=\"Correspondence games: one or several days per move\">Correspondence</a></div><time class=\"timeago\" datetime=\"2023-01-28T17:53:08.912Z\">&nbsp;1 hour ago</time></div></div></div><div class=\"game__meta__players\"><div class=\"player color-icon is white text\"><span class=\"user-link\">Stockfish&nbsp;level&nbsp;8</span></div><div class=\"player color-icon is black text\"><a class=\"user-link ulpt\" href=\"/@/Tomasukii\"><span class=\"utitle\" data-bot=\"data-bot\" title=\"Chess Robot\">BOT</span>&nbsp;Tomasukii (<abbr title=\"Not enough rated games have been played to establish a reliable rating.\">2000?</abbr>)</a></div></div></section></div><div class=\"for-crawler\"><h1>Correspondence Chess • Stockfish level 8 vs BOT Tomasukii</h1><p>Stockfish level 8 is playing BOT Tomasukii (2000) in a casual Correspondence game of chess. Game is still ongoing after 13 moves. Click to replay, analyse, and discuss the game!</p><div class=\"pgn\">[Event &quot;Casual Correspondence game&quot;]\\n[Site &quot;https://lichess.org/obx7TLx8&quot;]\\n[Date &quot;2023.01.28&quot;]\\n[White &quot;lichess AI level 8&quot;]\\n[Black &quot;Tomasukii&quot;]\\n[Result &quot;*&quot;]\\n[UTCDate &quot;2023.01.28&quot;]\\n[UTCTime &quot;17:53:08&quot;]\\n[WhiteElo &quot;?&quot;]\\n[BlackElo &quot;2000&quot;]\\n[BlackTitle &quot;BOT&quot;]\\n[Variant &quot;Standard&quot;]\\n[TimeControl &quot;-&quot;]\\n[ECO &quot;B00&quot;]\\n[Opening &quot;Ware Defense&quot;]\\n[Termination &quot;Unterminated&quot;]\\n\\n1. e4 a5 2. d4 Ra6 3. Bxa6 bxa6 4. Nf3 Nc6 5. d5 Nf6 6. dxc6 dxc6 7. Qxd8+ Kxd8 8. Nc3 Bg4 9. Ne5 Nxe4 10. Nxe4 h5 11. Nxf7+ Ke8 12. Nxh8 g6 13. Ng3 *</div></div></aside><div class=\"round__board main-board\"><div class=\"cg-wrap\"><cg-container><cg-board><square class=\"last-move\" style=\"top:50.0%;left:50.0%\"></square><square class=\"last-move\" style=\"top:62.5%;left:75.0%\"></square><piece class=\"white rook\" style=\"top:87.5%;left:0.0%\"></piece><piece class=\"white pawn\" style=\"top:75.0%;left:25.0%\"></piece><piece class=\"black pawn\" style=\"top:25.0%;left:25.0%\"></piece><piece class=\"black pawn\" style=\"top:25.0%;left:75.0%\"></piece><piece class=\"black bishop\" style=\"top:0.0%;left:62.5%\"></piece><piece class=\"black king\" style=\"top:0.0%;left:50.0%\"></piece><piece class=\"white pawn\" style=\"top:75.0%;left:12.5%\"></piece><piece class=\"white pawn\" style=\"top:75.0%;left:62.5%\"></piece><piece class=\"white bishop\" style=\"top:87.5%;left:25.0%\"></piece><piece class=\"black pawn\" style=\"top:37.5%;left:0.0%\"></piece><piece class=\"white knight\" style=\"top:62.5%;left:75.0%\"></piece><piece class=\"white knight\" style=\"top:0.0%;left:87.5%\"></piece><piece class=\"black pawn\" style=\"top:12.5%;left:25.0%\"></piece><piece class=\"black pawn\" style=\"top:25.0%;left:0.0%\"></piece><piece class=\"white pawn\" style=\"top:75.0%;left:0.0%\"></piece><piece class=\"black bishop\" style=\"top:50.0%;left:75.0%\"></piece><piece class=\"white king\" style=\"top:87.5%;left:50.0%\"></piece><piece class=\"white pawn\" style=\"top:75.0%;left:87.5%\"></piece><piece class=\"black pawn\" style=\"top:12.5%;left:50.0%\"></piece><piece class=\"white pawn\" style=\"top:75.0%;left:75.0%\"></piece><piece class=\"white rook\" style=\"top:87.5%;left:87.5%\"></piece><piece class=\"black pawn\" style=\"top:37.5%;left:87.5%\"></piece></cg-board></cg-container></div></div></main></div><a id=\"reconnecting\" class=\"link text\" data-icon=\"\\ue035\">Reconnecting</a><svg width=\"0\" height=\"0\"><mask id=\"mask\"><path fill=\"#fff\" stroke=\"#fff\" stroke-linejoin=\"round\" d=\"M38.956.5c-3.53.418-6.452.902-9.286 2.984C5.534 1.786-.692 18.533.68 29.364 3.493 50.214 31.918 55.785 41.329 41.7c-7.444 7.696-19.276 8.752-28.323 3.084C3.959 39.116-.506 27.392 4.683 17.567 9.873 7.742 18.996 4.535 29.03 6.405c2.43-1.418 5.225-3.22 7.655-3.187l-1.694 4.86 12.752 21.37c-.439 5.654-5.459 6.112-5.459 6.112-.574-1.47-1.634-2.942-4.842-6.036-3.207-3.094-17.465-10.177-15.788-16.207-2.001 6.967 10.311 14.152 14.04 17.663 3.73 3.51 5.426 6.04 5.795 6.756 0 0 9.392-2.504 7.838-8.927L37.4 7.171z\"/></mask></svg><script nonce=\"FUBjijTixasGsS6bYHCDognK\">lichess={load:new Promise(r=>document.addEventListener(\"DOMContentLoaded\",r)),quantity:o=>1==o?\"one\":\"other\",siteI18n:{\"pause\":\"Pause\",\"resume\":\"Resume\",\"nbFriendsOnline:one\":\"%s friend online\",\"nbFriendsOnline\":\"%s friends online\",\"justNow\":\"just now\",\"inNbSeconds:one\":\"in %s second\",\"inNbSeconds\":\"in %s seconds\",\"inNbMinutes:one\":\"in %s minute\",\"inNbMinutes\":\"in %s minutes\",\"inNbHours:one\":\"in %s hour\",\"inNbHours\":\"in %s hours\",\"inNbDays:one\":\"in %s day\",\"inNbDays\":\"in %s days\",\"inNbWeeks:one\":\"in %s week\",\"inNbWeeks\":\"in %s weeks\",\"inNbMonths:one\":\"in %s month\",\"inNbMonths\":\"in %s months\",\"inNbYears:one\":\"in %s year\",\"inNbYears\":\"in %s years\",\"rightNow\":\"right now\",\"nbSecondsAgo:one\":\"%s second ago\",\"nbSecondsAgo\":\"%s seconds ago\",\"nbMinutesAgo:one\":\"%s minute ago\",\"nbMinutesAgo\":\"%s minutes ago\",\"nbHoursAgo:one\":\"%s hour ago\",\"nbHoursAgo\":\"%s hours ago\",\"nbDaysAgo:one\":\"%s day ago\",\"nbDaysAgo\":\"%s days ago\",\"nbWeeksAgo:one\":\"%s week ago\",\"nbWeeksAgo\":\"%s weeks ago\",\"nbMonthsAgo:one\":\"%s month ago\",\"nbMonthsAgo\":\"%s months ago\",\"nbYearsAgo:one\":\"%s year ago\",\"nbYearsAgo\":\"%s years ago\"}}</script><script defer=\"defer\" src=\"https://lichess1.org/assets/_jHqZg8/compiled/lichess.min.js\"></script></body></html>'"
      ]
     },
     "execution_count": 15,
     "metadata": {},
     "output_type": "execute_result"
    }
   ],
   "source": [
    "PGN = str(pgn)\n",
    "PGN"
   ]
  },
  {
   "cell_type": "code",
   "execution_count": 16,
   "id": "8944b94a",
   "metadata": {},
   "outputs": [
    {
     "name": "stdout",
     "output_type": "stream",
     "text": [
      "1. e4 a5 2. d4 Ra6 3. Bxa6 bxa6 4. Nf3 Nc6 5. d5 Nf6 6. dxc6 dxc6 7. Qxd8+ Kxd8 8. Nc3 Bg4 9. Ne5 Nxe4 10. Nxe4 h5 11. Nxf7+ Ke8 12. Nxh8 g6 13. Ng3 *</div></div></aside><div class=\"round__board main-board\"><div class=\"cg-wrap\"><cg-container><cg-board><square class=\"last-move\" style=\"top:50.0%;left:50.0%\"></square><square class=\"last-move\" style=\"top:62.5%;left:75.0%\"></square><piece class=\"white rook\" style=\"top:87.5%;left:0.0%\"></piece><piece class=\"white pawn\" style=\"top:75.0%;left:25.0%\"></piece><piece class=\"black pawn\" style=\"top:25.0%;left:25.0%\"></piece><piece class=\"black pawn\" style=\"top:25.0%;left:75.0%\"></piece><piece class=\"black bishop\" style=\"top:0.0%;left:62.5%\"></piece><piece class=\"black king\" style=\"top:0.0%;left:50.0%\"></piece><piece class=\"white pawn\" style=\"top:75.0%;left:12.5%\"></piece><piece class=\"white pawn\" style=\"top:75.0%;left:62.5%\"></piece><piece class=\"white bishop\" style=\"top:87.5%;left:25.0%\"></piece><piece class=\"black pawn\" style=\"top:37.5%;left:0.0%\"></piece><piece class=\"white knight\" style=\"top:62.5%;left:75.0%\"></piece><piece class=\"white knight\" style=\"top:0.0%;left:87.5%\"></piece><piece class=\"black pawn\" style=\"top:12.5%;left:25.0%\"></piece><piece class=\"black pawn\" style=\"top:25.0%;left:0.0%\"></piece><piece class=\"white pawn\" style=\"top:75.0%;left:0.0%\"></piece><piece class=\"black bishop\" style=\"top:50.0%;left:75.0%\"></piece><piece class=\"white king\" style=\"top:87.5%;left:50.0%\"></piece><piece class=\"white pawn\" style=\"top:75.0%;left:87.5%\"></piece><piece class=\"black pawn\" style=\"top:12.5%;left:50.0%\"></piece><piece class=\"white pawn\" style=\"top:75.0%;left:75.0%\"></piece><piece class=\"white rook\" style=\"top:87.5%;left:87.5%\"></piece><piece class=\"black pawn\" style=\"top:37.5%;left:87.5%\"></piece></cg-board></cg-container></div></div></main></div><a id=\"reconnecting\" class=\"link text\" data-icon=\"\">Reconnecting</a><svg width=\"0\" height=\"0\"><mask id=\"mask\"><path fill=\"#fff\" stroke=\"#fff\" stroke-linejoin=\"round\" d=\"M38.956.5c-3.53.418-6.452.902-9.286 2.984C5.534 1.786-.692 18.533.68 29.364 3.493 50.214 31.918 55.785 41.329 41.7c-7.444 7.696-19.276 8.752-28.323 3.084C3.959 39.116-.506 27.392 4.683 17.567 9.873 7.742 18.996 4.535 29.03 6.405c2.43-1.418 5.225-3.22 7.655-3.187l-1.694 4.86 12.752 21.37c-.439 5.654-5.459 6.112-5.459 6.112-.574-1.47-1.634-2.942-4.842-6.036-3.207-3.094-17.465-10.177-15.788-16.207-2.001 6.967 10.311 14.152 14.04 17.663 3.73 3.51 5.426 6.04 5.795 6.756 0 0 9.392-2.504 7.838-8.927L37.4 7.171z\"/></mask></svg><script nonce=\"FUBjijTixasGsS6bYHCDognK\">lichess={load:new Promise(r=>document.addEventListener(\"DOMContentLoaded\",r)),quantity:o=>1==o?\"one\":\"other\",siteI18n:{\"pause\":\"Pause\",\"resume\":\"Resume\",\"nbFriendsOnline:one\":\"%s friend online\",\"nbFriendsOnline\":\"%s friends online\",\"justNow\":\"just now\",\"inNbSeconds:one\":\"in %s second\",\"inNbSeconds\":\"in %s seconds\",\"inNbMinutes:one\":\"in %s minute\",\"inNbMinutes\":\"in %s minutes\",\"inNbHours:one\":\"in %s hour\",\"inNbHours\":\"in %s hours\",\"inNbDays:one\":\"in %s day\",\"inNbDays\":\"in %s days\",\"inNbWeeks:one\":\"in %s week\",\"inNbWeeks\":\"in %s weeks\",\"inNbMonths:one\":\"in %s month\",\"inNbMonths\":\"in %s months\",\"inNbYears:one\":\"in %s year\",\"inNbYears\":\"in %s years\",\"rightNow\":\"right now\",\"nbSecondsAgo:one\":\"%s second ago\",\"nbSecondsAgo\":\"%s seconds ago\",\"nbMinutesAgo:one\":\"%s minute ago\",\"nbMinutesAgo\":\"%s minutes ago\",\"nbHoursAgo:one\":\"%s hour ago\",\"nbHoursAgo\":\"%s hours ago\",\"nbDaysAgo:one\":\"%s day ago\",\"nbDaysAgo\":\"%s days ago\",\"nbWeeksAgo:one\":\"%s week ago\",\"nbWeeksAgo\":\"%s weeks ago\",\"nbMonthsAgo:one\":\"%s month ago\",\"nbMonthsAgo\":\"%s months ago\",\"nbYearsAgo:one\":\"%s year ago\",\"nbYearsAgo\":\"%s years ago\"}}</script><script defer=\"defer\" src=\"https://lichess1.org/assets/_jHqZg8/compiled/lichess.min.js\"></script></body></html>\n"
     ]
    }
   ],
   "source": [
    "text = PGN\n",
    "start = text.find(\"1. \")\n",
    "substring = text[start:]\n",
    "print(substring)"
   ]
  },
  {
   "cell_type": "code",
   "execution_count": 17,
   "id": "0b7a4148",
   "metadata": {},
   "outputs": [
    {
     "name": "stdout",
     "output_type": "stream",
     "text": [
      "1. e4 a5 2. d4 Ra6 3. Bxa6 bxa6 4. Nf3 Nc6 5. d5 Nf6 6. dxc6 dxc6 7. Qxd8+ Kxd8 8. Nc3 Bg4 9. Ne5 Nxe4 10. Nxe4 h5 11. Nxf7+ Ke8 12. Nxh8 g6 13. Ng3 \n"
     ]
    }
   ],
   "source": [
    "text = substring\n",
    "moves = text.split(\"*</div>\")[0]\n",
    "print(moves)"
   ]
  },
  {
   "cell_type": "code",
   "execution_count": 18,
   "id": "ffcf7ce8",
   "metadata": {},
   "outputs": [],
   "source": [
    "import requests\n",
    "\n",
    "# Fonction pour obtenir les mouvements d'une partie en format PGN et l'enregistrer dans un fichier\n",
    "def get_pgn_file(game_id, file_path):\n",
    "    response = requests.get(f'https://lichess.org/{game_id}')\n",
    "    pgn = response.text\n",
    "    with open(file_path, 'w', encoding='utf-8') as f:\n",
    "        f.write(pgn)\n",
    "\n",
    "# Exemple d'utilisation de la fonction\n",
    "game_id = \"JXSzhJz8\"\n",
    "file_path = \"C:\\\\Users\\\\thoma\\\\OneDrive\\\\Bureau\\\\partie.pgn\"\n",
    "get_pgn_file(game_id, file_path)"
   ]
  },
  {
   "cell_type": "code",
   "execution_count": 20,
   "id": "346fc9ad",
   "metadata": {},
   "outputs": [
    {
     "name": "stdout",
     "output_type": "stream",
     "text": [
      "Temperature: e5e7\n",
      "\n",
      "Temperature: e5e7\n",
      "\n",
      "Temperature: e5e7\n",
      "\n",
      "Temperature: e5e7\n",
      "\n",
      "Temperature: e5e7\n",
      "\n",
      "Temperature: e5e7\n",
      "\n",
      "rature: e5e7\n",
      "\n",
      "Temperature: e5e7\n",
      "\n",
      "Temperature: e5e7\n",
      "\n",
      "Temperature: e5e7\n",
      "\n",
      "Temperature: e5e7\n",
      "\n",
      "Temperature: e5e7\n",
      "\n",
      "Temperature: e5e7\n",
      "\n",
      "Temperature: e5e7\n",
      "\n",
      "Temperature: e5e7\n",
      "\n",
      "Temperature: e5e7\n",
      "\n",
      "Temperature: e5e7\n",
      "\n",
      "Temperature: e5e7\n",
      "\n",
      "Temperature: e5e7\n",
      "\n",
      "Temperature: e5e7\n",
      "\n",
      "Temperature: e5e7\n",
      "\n",
      "Temperature: e5e7\n",
      "\n",
      "Temperature: e5e7\n",
      "\n",
      "Temperature: e5e7\n",
      "\n",
      "Temperature: e5e7\n",
      "\n",
      "Temperature: e5e7\n",
      "\n",
      "Temperature: e5e7\n",
      "\n",
      "Temperature: e5e7\n",
      "\n",
      "Temperature: e5e7\n",
      "\n",
      "Temperature: e5e7\n",
      "\n",
      "Temperature: e5e7\n",
      "\n",
      "Temperature: e5e7\n",
      "\n",
      "Temperature: e5e7\n",
      "\n",
      "Temperature: e5e7\n",
      "\n",
      "Temperature: e5e7\n",
      "\n",
      "Temperature: e5e7\n",
      "\n",
      "Temperature: e5e7\n",
      "\n",
      "Temperature: e5e7\n",
      "\n",
      "Temperature: e5e7\n",
      "\n",
      "Temperature: e5e7\n",
      "\n",
      "Temperature: e5e7\n",
      "\n",
      "Temperature: e5e7\n",
      "\n",
      "Temperature: e5e7\n",
      "\n",
      "Temperature: e5e7\n",
      "\n",
      "Temperature: e5e7\n",
      "\n",
      "Temperature: e5e7\n",
      "\n",
      "\n"
     ]
    },
    {
     "ename": "SerialException",
     "evalue": "ClearCommError failed (PermissionError(13, 'Le périphérique ne reconnaît pas la commande.', None, 22))",
     "output_type": "error",
     "traceback": [
      "\u001b[1;31m---------------------------------------------------------------------------\u001b[0m",
      "\u001b[1;31mSerialException\u001b[0m                           Traceback (most recent call last)",
      "\u001b[1;32m~\\AppData\\Local\\Temp\\ipykernel_15920\\1074975671.py\u001b[0m in \u001b[0;36m<module>\u001b[1;34m\u001b[0m\n\u001b[0;32m      1\u001b[0m \u001b[1;32mwhile\u001b[0m \u001b[1;32mTrue\u001b[0m\u001b[1;33m:\u001b[0m\u001b[1;33m\u001b[0m\u001b[1;33m\u001b[0m\u001b[0m\n\u001b[1;32m----> 2\u001b[1;33m     \u001b[0mdata\u001b[0m \u001b[1;33m=\u001b[0m \u001b[0mser\u001b[0m\u001b[1;33m.\u001b[0m\u001b[0mreadline\u001b[0m\u001b[1;33m(\u001b[0m\u001b[1;33m)\u001b[0m\u001b[1;33m.\u001b[0m\u001b[0mdecode\u001b[0m\u001b[1;33m(\u001b[0m\u001b[1;33m)\u001b[0m\u001b[1;33m\u001b[0m\u001b[1;33m\u001b[0m\u001b[0m\n\u001b[0m\u001b[0;32m      3\u001b[0m     \u001b[0mprint\u001b[0m\u001b[1;33m(\u001b[0m\u001b[0mdata\u001b[0m\u001b[1;33m)\u001b[0m\u001b[1;33m\u001b[0m\u001b[1;33m\u001b[0m\u001b[0m\n",
      "\u001b[1;32m~\\anaconda3\\lib\\site-packages\\serial\\serialwin32.py\u001b[0m in \u001b[0;36mread\u001b[1;34m(self, size)\u001b[0m\n\u001b[0;32m    273\u001b[0m             \u001b[0mcomstat\u001b[0m \u001b[1;33m=\u001b[0m \u001b[0mwin32\u001b[0m\u001b[1;33m.\u001b[0m\u001b[0mCOMSTAT\u001b[0m\u001b[1;33m(\u001b[0m\u001b[1;33m)\u001b[0m\u001b[1;33m\u001b[0m\u001b[1;33m\u001b[0m\u001b[0m\n\u001b[0;32m    274\u001b[0m             \u001b[1;32mif\u001b[0m \u001b[1;32mnot\u001b[0m \u001b[0mwin32\u001b[0m\u001b[1;33m.\u001b[0m\u001b[0mClearCommError\u001b[0m\u001b[1;33m(\u001b[0m\u001b[0mself\u001b[0m\u001b[1;33m.\u001b[0m\u001b[0m_port_handle\u001b[0m\u001b[1;33m,\u001b[0m \u001b[0mctypes\u001b[0m\u001b[1;33m.\u001b[0m\u001b[0mbyref\u001b[0m\u001b[1;33m(\u001b[0m\u001b[0mflags\u001b[0m\u001b[1;33m)\u001b[0m\u001b[1;33m,\u001b[0m \u001b[0mctypes\u001b[0m\u001b[1;33m.\u001b[0m\u001b[0mbyref\u001b[0m\u001b[1;33m(\u001b[0m\u001b[0mcomstat\u001b[0m\u001b[1;33m)\u001b[0m\u001b[1;33m)\u001b[0m\u001b[1;33m:\u001b[0m\u001b[1;33m\u001b[0m\u001b[1;33m\u001b[0m\u001b[0m\n\u001b[1;32m--> 275\u001b[1;33m                 \u001b[1;32mraise\u001b[0m \u001b[0mSerialException\u001b[0m\u001b[1;33m(\u001b[0m\u001b[1;34m\"ClearCommError failed ({!r})\"\u001b[0m\u001b[1;33m.\u001b[0m\u001b[0mformat\u001b[0m\u001b[1;33m(\u001b[0m\u001b[0mctypes\u001b[0m\u001b[1;33m.\u001b[0m\u001b[0mWinError\u001b[0m\u001b[1;33m(\u001b[0m\u001b[1;33m)\u001b[0m\u001b[1;33m)\u001b[0m\u001b[1;33m)\u001b[0m\u001b[1;33m\u001b[0m\u001b[1;33m\u001b[0m\u001b[0m\n\u001b[0m\u001b[0;32m    276\u001b[0m             \u001b[0mn\u001b[0m \u001b[1;33m=\u001b[0m \u001b[0mmin\u001b[0m\u001b[1;33m(\u001b[0m\u001b[0mcomstat\u001b[0m\u001b[1;33m.\u001b[0m\u001b[0mcbInQue\u001b[0m\u001b[1;33m,\u001b[0m \u001b[0msize\u001b[0m\u001b[1;33m)\u001b[0m \u001b[1;32mif\u001b[0m \u001b[0mself\u001b[0m\u001b[1;33m.\u001b[0m\u001b[0mtimeout\u001b[0m \u001b[1;33m==\u001b[0m \u001b[1;36m0\u001b[0m \u001b[1;32melse\u001b[0m \u001b[0msize\u001b[0m\u001b[1;33m\u001b[0m\u001b[1;33m\u001b[0m\u001b[0m\n\u001b[0;32m    277\u001b[0m             \u001b[1;32mif\u001b[0m \u001b[0mn\u001b[0m \u001b[1;33m>\u001b[0m \u001b[1;36m0\u001b[0m\u001b[1;33m:\u001b[0m\u001b[1;33m\u001b[0m\u001b[1;33m\u001b[0m\u001b[0m\n",
      "\u001b[1;31mSerialException\u001b[0m: ClearCommError failed (PermissionError(13, 'Le périphérique ne reconnaît pas la commande.', None, 22))"
     ]
    }
   ],
   "source": [
    "while True:\n",
    "    data = ser.readline().decode()\n",
    "    print(data)"
   ]
  },
  {
   "cell_type": "code",
   "execution_count": null,
   "id": "be3a6597",
   "metadata": {},
   "outputs": [],
   "source": []
  }
 ],
 "metadata": {
  "kernelspec": {
   "display_name": "Python 3 (ipykernel)",
   "language": "python",
   "name": "python3"
  },
  "language_info": {
   "codemirror_mode": {
    "name": "ipython",
    "version": 3
   },
   "file_extension": ".py",
   "mimetype": "text/x-python",
   "name": "python",
   "nbconvert_exporter": "python",
   "pygments_lexer": "ipython3",
   "version": "3.9.13"
  }
 },
 "nbformat": 4,
 "nbformat_minor": 5
}
