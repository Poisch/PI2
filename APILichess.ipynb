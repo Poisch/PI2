{
 "cells": [
  {
   "cell_type": "raw",
   "id": "9c0a4145",
   "metadata": {},
   "source": [
    "https://www.iechecs.com/notation.htm"
   ]
  },
  {
   "cell_type": "markdown",
   "id": "c3f65c2e",
   "metadata": {},
   "source": [
    "## Install & Import bibliothèque"
   ]
  },
  {
   "cell_type": "code",
   "execution_count": 1,
   "id": "e0863cf4",
   "metadata": {
    "scrolled": true
   },
   "outputs": [
    {
     "name": "stdout",
     "output_type": "stream",
     "text": [
      "Requirement already satisfied: python-lichess in c:\\users\\thoma\\anaconda3\\lib\\site-packages (0.10)\n",
      "Requirement already satisfied: six in c:\\users\\thoma\\anaconda3\\lib\\site-packages (from python-lichess) (1.16.0)\n",
      "Requirement already satisfied: requests in c:\\users\\thoma\\anaconda3\\lib\\site-packages (from python-lichess) (2.28.1)\n",
      "Requirement already satisfied: charset-normalizer<3,>=2 in c:\\users\\thoma\\anaconda3\\lib\\site-packages (from requests->python-lichess) (2.0.4)\n",
      "Requirement already satisfied: certifi>=2017.4.17 in c:\\users\\thoma\\anaconda3\\lib\\site-packages (from requests->python-lichess) (2022.9.14)\n",
      "Requirement already satisfied: idna<4,>=2.5 in c:\\users\\thoma\\anaconda3\\lib\\site-packages (from requests->python-lichess) (3.3)\n",
      "Requirement already satisfied: urllib3<1.27,>=1.21.1 in c:\\users\\thoma\\anaconda3\\lib\\site-packages (from requests->python-lichess) (1.26.11)\n"
     ]
    }
   ],
   "source": [
    "!pip install python-lichess"
   ]
  },
  {
   "cell_type": "code",
   "execution_count": 2,
   "id": "91bc5850",
   "metadata": {},
   "outputs": [
    {
     "name": "stdout",
     "output_type": "stream",
     "text": [
      "Requirement already satisfied: python-chess in c:\\users\\thoma\\anaconda3\\lib\\site-packages (1.999)\n",
      "Requirement already satisfied: chess<2,>=1 in c:\\users\\thoma\\anaconda3\\lib\\site-packages (from python-chess) (1.9.4)\n"
     ]
    }
   ],
   "source": [
    "!pip install python-chess"
   ]
  },
  {
   "cell_type": "code",
   "execution_count": 3,
   "id": "ff4fe2d1",
   "metadata": {},
   "outputs": [
    {
     "name": "stdout",
     "output_type": "stream",
     "text": [
      "Requirement already satisfied: pySerial in c:\\users\\thoma\\anaconda3\\lib\\site-packages (3.5)\n"
     ]
    }
   ],
   "source": [
    "!pip install pySerial"
   ]
  },
  {
   "cell_type": "code",
   "execution_count": 4,
   "id": "f6857b01",
   "metadata": {},
   "outputs": [
    {
     "name": "stdout",
     "output_type": "stream",
     "text": [
      "Requirement already satisfied: berserk in c:\\users\\thoma\\anaconda3\\lib\\site-packages (0.10.0)\n",
      "Requirement already satisfied: requests~=2.20 in c:\\users\\thoma\\anaconda3\\lib\\site-packages (from berserk) (2.28.1)\n",
      "Requirement already satisfied: ndjson~=0.2 in c:\\users\\thoma\\anaconda3\\lib\\site-packages (from berserk) (0.3.1)\n",
      "Requirement already satisfied: deprecated~=1.2.7 in c:\\users\\thoma\\anaconda3\\lib\\site-packages (from berserk) (1.2.13)\n",
      "Requirement already satisfied: wrapt<2,>=1.10 in c:\\users\\thoma\\anaconda3\\lib\\site-packages (from deprecated~=1.2.7->berserk) (1.14.1)\n",
      "Requirement already satisfied: certifi>=2017.4.17 in c:\\users\\thoma\\anaconda3\\lib\\site-packages (from requests~=2.20->berserk) (2022.9.14)\n",
      "Requirement already satisfied: idna<4,>=2.5 in c:\\users\\thoma\\anaconda3\\lib\\site-packages (from requests~=2.20->berserk) (3.3)\n",
      "Requirement already satisfied: urllib3<1.27,>=1.21.1 in c:\\users\\thoma\\anaconda3\\lib\\site-packages (from requests~=2.20->berserk) (1.26.11)\n",
      "Requirement already satisfied: charset-normalizer<3,>=2 in c:\\users\\thoma\\anaconda3\\lib\\site-packages (from requests~=2.20->berserk) (2.0.4)\n"
     ]
    }
   ],
   "source": [
    "!pip install berserk"
   ]
  },
  {
   "cell_type": "code",
   "execution_count": 5,
   "id": "8a4c2ec9",
   "metadata": {},
   "outputs": [],
   "source": [
    "import lichess.api"
   ]
  },
  {
   "cell_type": "code",
   "execution_count": 6,
   "id": "46df3493",
   "metadata": {},
   "outputs": [],
   "source": [
    "import berserk"
   ]
  },
  {
   "cell_type": "code",
   "execution_count": 7,
   "id": "9bb25bd2",
   "metadata": {},
   "outputs": [],
   "source": [
    "import requests"
   ]
  },
  {
   "cell_type": "code",
   "execution_count": 8,
   "id": "47ea29f0",
   "metadata": {},
   "outputs": [],
   "source": [
    "import time"
   ]
  },
  {
   "cell_type": "code",
   "execution_count": 9,
   "id": "fddeac65",
   "metadata": {},
   "outputs": [],
   "source": [
    "import re\n",
    "# La fonction re.sub() de la bibliothèque re permet de remplacer toutes les occurrences d'un motif de recherche par une chaîne de remplacement. Dans ce cas, le motif de recherche est \"\\{.*?\\}\", qui correspond à toute chaîne de caractères qui commence par { et se termine par }. La chaîne de remplacement est simplement une chaîne vide, \"\", ce qui permet de supprimer ces parties de la chaîne d'origine."
   ]
  },
  {
   "cell_type": "code",
   "execution_count": 10,
   "id": "c1aa837d",
   "metadata": {},
   "outputs": [],
   "source": [
    "import webbrowser"
   ]
  },
  {
   "cell_type": "markdown",
   "id": "6e1ee42b",
   "metadata": {},
   "source": [
    "## TOKEN Lichess "
   ]
  },
  {
   "cell_type": "code",
   "execution_count": 11,
   "id": "8e068298",
   "metadata": {},
   "outputs": [],
   "source": [
    "# BOTKAIROS : lip_ndcKmSqJoPKlp6H3yDV1\n",
    "#lip_09gpe64RAdOHUTBN0CmK\n",
    "\n",
    "token = \"lip_09gpe64RAdOHUTBN0CmK\"\n",
    "session = berserk.TokenSession(token)\n",
    "client = berserk.Client(session=session)"
   ]
  },
  {
   "cell_type": "raw",
   "id": "a9bdb87d",
   "metadata": {},
   "source": [
    "client.account.get()"
   ]
  },
  {
   "cell_type": "markdown",
   "id": "e3da7f94",
   "metadata": {},
   "source": [
    "### Board "
   ]
  },
  {
   "cell_type": "code",
   "execution_count": 12,
   "id": "8be1a01c",
   "metadata": {},
   "outputs": [
    {
     "name": "stdout",
     "output_type": "stream",
     "text": [
      "  A  B  C  D  E  F  G  H\n",
      "8 R1 N1 B1 Q  K  B2 N2 R2 \n",
      "7 P1 P2 P3 P4 P5 P6 P7 P8 \n",
      "6                         \n",
      "5                         \n",
      "4                         \n",
      "3                         \n",
      "2 p1 p2 p3 p4 p5 p6 p7 p8 \n",
      "1 r1 n1 b1 q  k  b2 n2 r2 \n",
      "  A  B  C  D  E  F  G  H\n"
     ]
    }
   ],
   "source": [
    "DisplayBoard = [    [\"R1\", \"N1\", \"B1\", \"Q\", \"K\", \"B2\", \"N2\", \"R2\"],\n",
    "    [\"P1\", \"P2\", \"P3\", \"P4\", \"P5\", \"P6\", \"P7\", \"P8\"],\n",
    "    [\" \", \" \", \" \", \" \", \" \", \" \", \" \", \" \"],\n",
    "    [\" \", \" \", \" \", \" \", \" \", \" \", \" \", \" \"],\n",
    "    [\" \", \" \", \" \", \" \", \" \", \" \", \" \", \" \"],\n",
    "    [\" \", \" \", \" \", \" \", \" \", \" \", \" \", \" \"],\n",
    "    [\"p1\", \"p2\", \"p3\", \"p4\", \"p5\", \"p6\", \"p7\", \"p8\"],\n",
    "    [\"r1\", \"n1\", \"b1\", \"q\", \"k\", \"b2\", \"n2\", \"r2\"]\n",
    "]\n",
    "\n",
    "def display_board(board):\n",
    "    print(\"  A  B  C  D  E  F  G  H\")\n",
    "    for i, row in enumerate(board):\n",
    "        print(8-i, end=\" \")\n",
    "        for square in row:\n",
    "            if (len(square) == 2) :\n",
    "                print(square, end=\" \")\n",
    "            else :\n",
    "                print(square, end=\"  \")\n",
    "        print()\n",
    "    print(\"  A  B  C  D  E  F  G  H\")\n",
    "\n",
    "display_board(DisplayBoard)\n",
    "\n"
   ]
  },
  {
   "cell_type": "code",
   "execution_count": 13,
   "id": "cad4ee4e",
   "metadata": {},
   "outputs": [],
   "source": [
    "ligne = [\"1\",\"2\",\"3\",\"4\",\"5\",\"6\",\"7\",\"8\"]\n",
    "colonne = ['a','b','c','d','e','f','g','h']"
   ]
  },
  {
   "cell_type": "markdown",
   "id": "ac441ec2",
   "metadata": {},
   "source": [
    "### Create IA  "
   ]
  },
  {
   "cell_type": "raw",
   "id": "458f2be2",
   "metadata": {},
   "source": [
    "id_game = client.challenges.create_ai(level=1, clock_limit=None, clock_increment=None, days=None, color=\"black\", variant=None, position=None)['id']"
   ]
  },
  {
   "cell_type": "code",
   "execution_count": 14,
   "id": "0252fb04",
   "metadata": {},
   "outputs": [],
   "source": [
    "def IA_Level():\n",
    "    while True:\n",
    "        input_ia = int(input(\"Saisir le niveau de difficulté de l'IA (1 à 8) : \"))\n",
    "        if input_ia < 1 or input_ia > 8:\n",
    "            print(\"Erreur : la valeur doit être comprise entre 1 et 8.\")\n",
    "        else:\n",
    "            print(f\"\\nIA de difficulté {input_ia}/8.\\n\")\n",
    "            return input_ia"
   ]
  },
  {
   "cell_type": "raw",
   "id": "2681aff6",
   "metadata": {},
   "source": [
    "ia_level = IA_Level()\n",
    "type(ia_level)"
   ]
  },
  {
   "cell_type": "code",
   "execution_count": 15,
   "id": "13d4795e",
   "metadata": {},
   "outputs": [],
   "source": [
    "def ColorPlayer():\n",
    "    while True:\n",
    "        color_player = input(\"Saisir la couleur du joueur (white or black): \")\n",
    "        if color_player.lower() not in [\"white\", \"black\"]:\n",
    "            print(\"Erreur : la couleur doit être white ou black.\")\n",
    "        else:\n",
    "            print(f\"\\nVous avez choisi la couleur : {color_player}.\\n\")\n",
    "            return color_player.lower()"
   ]
  },
  {
   "cell_type": "raw",
   "id": "a0c5d726",
   "metadata": {},
   "source": [
    "color_player = ColorPlayer()\n",
    "type(color_player)"
   ]
  },
  {
   "cell_type": "code",
   "execution_count": 16,
   "id": "97b799ea",
   "metadata": {},
   "outputs": [],
   "source": [
    "def CreateIA() :\n",
    "    ia_level = IA_Level()\n",
    "    color_player = ColorPlayer()\n",
    "    try :\n",
    "        print(\"Création de la game contre l'IA\")\n",
    "        id_game = client.challenges.create_ai(level=ia_level, clock_limit=None, clock_increment=None, days=None, color=color_player, variant=None, position=None)['id']\n",
    "        if (color_player == \"white\"):\n",
    "            color_enemy = \"black\"\n",
    "        else :\n",
    "            color_enemy = \"white\"\n",
    "        url = f'https://lichess.org/{id_game}'\n",
    "        webbrowser.open(url)\n",
    "        return id_game, color_player, color_enemy\n",
    "    except :\n",
    "        print(\"Error\")\n",
    "        CreateIA()"
   ]
  },
  {
   "cell_type": "raw",
   "id": "ec70fcca",
   "metadata": {},
   "source": [
    "id_game, color_player, color_enemy = CreateIA()"
   ]
  },
  {
   "cell_type": "raw",
   "id": "d6450df4",
   "metadata": {},
   "source": [
    "url = f'https://lichess.org/{id_game}'\n",
    "webbrowser.open(url)"
   ]
  },
  {
   "cell_type": "raw",
   "id": "53ee939c",
   "metadata": {},
   "source": [
    "id_game"
   ]
  },
  {
   "cell_type": "raw",
   "id": "5b351d31",
   "metadata": {},
   "source": [
    "ligne = [\"1\",\"2\",\"3\",\"4\",\"5\",\"6\",\"7\",\"8\"]\n",
    "colonne = ['a','b','c','d','e','f','g','h']\n",
    "\n",
    "tour = 1"
   ]
  },
  {
   "cell_type": "raw",
   "id": "3bf3f10d",
   "metadata": {},
   "source": [
    "display_board(DisplayBoard)"
   ]
  },
  {
   "cell_type": "code",
   "execution_count": 17,
   "id": "4e683c41",
   "metadata": {},
   "outputs": [],
   "source": [
    "# Fonction pour obtenir les mouvements en direct de la partie\n",
    "def LiveMove(game_id):\n",
    "    response = requests.get(f'https://lichess.org/{game_id}')\n",
    "    PGN = response.text\n",
    "    PGN_String = str(PGN)\n",
    "    start = PGN_String.find(\"1. \")\n",
    "    substring = PGN_String[start:]\n",
    "    PGN_String = substring\n",
    "    moves = PGN_String.split(\"</div>\")[0]\n",
    "    return moves"
   ]
  },
  {
   "cell_type": "raw",
   "id": "d264b8f8",
   "metadata": {},
   "source": [
    "# Exemple d'utilisation de la fonction\n",
    "game_id = id_game\n",
    "ListMove = LiveMove(id_game)\n",
    "print(ListMove)"
   ]
  },
  {
   "cell_type": "code",
   "execution_count": 18,
   "id": "9beadbe3",
   "metadata": {},
   "outputs": [
    {
     "data": {
      "text/plain": [
       "True"
      ]
     },
     "execution_count": 18,
     "metadata": {},
     "output_type": "execute_result"
    }
   ],
   "source": [
    "board = [    [\"R1\", \"N1\", \"B1\", \"Q\", \"K\", \"B2\", \"N2\", \"R2\"],\n",
    "    [\"P1\", \"P2\", \"P3\", \"P4\", \"P5\", \"P6\", \"P7\", \"P8\"],\n",
    "    [\" \", \" \", \" \", \" \", \" \", \" \", \" \", \" \"],\n",
    "    [\" \", \" \", \" \", \" \", \" \", \" \", \" \", \" \"],\n",
    "    [\" \", \" \", \" \", \" \", \" \", \" \", \" \", \" \"],\n",
    "    [\" \", \" \", \" \", \" \", \" \", \" \", \" \", \" \"],\n",
    "    [\"p1\", \"p2\", \"p3\", \"p4\", \"p5\", \"p6\", \"p7\", \"p8\"],\n",
    "    [\"r1\", \"n1\", \"b1\", \"q\", \"k\", \"b2\", \"n2\", \"r2\"]\n",
    "]\n",
    "\n",
    "previousmove = \"a2\"\n",
    "\n",
    "\n",
    "board[ligne.index(previousmove[1])][colonne.index(previousmove[0])][0] == \"P\""
   ]
  },
  {
   "cell_type": "code",
   "execution_count": 19,
   "id": "0cced546",
   "metadata": {},
   "outputs": [],
   "source": [
    "def InputPos():\n",
    "    while True:\n",
    "        move = input(\"Saisir la position du mouvement (ex: e2e4 ou g8f6) : \")\n",
    "        if len(move) not in [4, 5]:\n",
    "            print(\"Erreur : le mouvement doit comporter 4 ou 5 caractères.\")\n",
    "        elif not move[0].isalpha() or not move[2].isalpha():\n",
    "            print(\"Erreur : les caractères 1 et 3 doivent être des lettres.\")\n",
    "        elif not move[1].isdigit() or not move[3].isdigit():\n",
    "            print(\"Erreur : les caractères 2 et 4 doivent être des chiffres.\")\n",
    "        elif len(move) == 5 and not move[4].isalpha():\n",
    "            print(\"Erreur : le dernier caractère doit être une lettre.\")\n",
    "        else:\n",
    "            return move.lower()"
   ]
  },
  {
   "cell_type": "code",
   "execution_count": 20,
   "id": "2da52a42",
   "metadata": {},
   "outputs": [],
   "source": [
    "def InputMove(id_game, board, color_player):\n",
    "    input_move = InputPos()\n",
    "    finalmove = ''\n",
    "    print(\"\\n\")\n",
    "    try:\n",
    "        if (color_player == \"white\") :\n",
    "            # Petit roque\n",
    "            if input_move == \"e1h1\" and board[0][4] == \"K\" and board[0][7] == \"R2\" and board[0][5] == ' ' and board[0][6] == ' ':\n",
    "                board[0][4] = \" \"\n",
    "                board[0][7] = \" \"\n",
    "                board[0][6] = \"K\"\n",
    "                board[0][5] = \"R2\"\n",
    "                finalmove = \"h1f1 e1g1\"\n",
    "                client.bots.make_move(id_game, input_move)\n",
    "                return finalmove, board\n",
    "            # Grand roque\n",
    "            elif input_move == \"e1a1\" and board[0][4] == \"K\" and board[0][0] == \"R1\" and board[0][1] == ' ' and board[0][2] == ' ' and board[0][3] == ' ':    \n",
    "                board[0][0] = \" \"\n",
    "                board[0][4] = \" \"\n",
    "                board[0][3] = \"R2\"\n",
    "                board[0][2] = \"K\"\n",
    "                finalmove = \"a1d1 e1c1\"\n",
    "                client.bots.make_move(id_game, input_move)\n",
    "                return finalmove, board\n",
    "            elif (input_move[1] == \"7\" and input_move[3] == \"8\") :\n",
    "                move = input_move[2:]\n",
    "                previousmove = input_move[:2]\n",
    "                if (board[ligne.index(previousmove[1])][colonne.index(previousmove[0])][0] == \"P\") :\n",
    "                    input_piece = input(\"=> Saisir la nouvelle valeur de la pièce (N : Knight, B : Bishop, Q : Queen, R : Rook) : \")\n",
    "                    input_move = input_move + input_piece.lower()\n",
    "                    client.bots.make_move(id_game, input_move)  \n",
    "                    board[ligne.index(move[1])][colonne.index(move[0])] = input_piece\n",
    "                    board[ligne.index(previousmove[1])][colonne.index(previousmove[0])] = ' '\n",
    "                    return finalmove, board\n",
    "                else :\n",
    "                    client.bots.make_move(id_game, input_move)\n",
    "                    move = input_move[2:]\n",
    "                    previousmove = input_move[:2]\n",
    "                    # Si un pion est mangé ou non \n",
    "                    if board[ligne.index(move[1])][colonne.index(move[0])] != ' ':\n",
    "                        finalmove = move + \"stock \" + input_move\n",
    "                    else:\n",
    "                        finalmove = input_move\n",
    "                    # Définition du plateau\n",
    "                    lastboard = board\n",
    "                    board[ligne.index(move[1])][colonne.index(move[0])] = lastboard[ligne.index(previousmove[1])][colonne.index(previousmove[0])]\n",
    "                    board[ligne.index(previousmove[1])][colonne.index(previousmove[0])] = ' '\n",
    "                    return finalmove, board\n",
    "            else:\n",
    "                client.bots.make_move(id_game, input_move)\n",
    "                move = input_move[2:]\n",
    "                previousmove = input_move[:2]\n",
    "                # Si un pion est mangé ou non \n",
    "                if board[ligne.index(move[1])][colonne.index(move[0])] != ' ':\n",
    "                    finalmove = move + \"stock \" + input_move\n",
    "                else:\n",
    "                    finalmove = input_move\n",
    "                # Définition du plateau\n",
    "                lastboard = board\n",
    "                board[ligne.index(move[1])][colonne.index(move[0])] = lastboard[ligne.index(previousmove[1])][colonne.index(previousmove[0])]\n",
    "                board[ligne.index(previousmove[1])][colonne.index(previousmove[0])] = ' '\n",
    "                return finalmove, board\n",
    "        elif (color_player == \"black\") :\n",
    "            # Petit roque\n",
    "            if input_move == \"e8h8\" and board[7][4] == \"K\" and board[7][7] == \"R2\" and board[7][5] == ' ' and board[7][6] == ' ':\n",
    "                board[7][4] = \" \"\n",
    "                board[7][7] = \" \"\n",
    "                board[7][6] = \"K\"\n",
    "                board[7][5] = \"R2\"\n",
    "                finalmove = \"h8f8 e8g8\"\n",
    "                client.bots.make_move(id_game, input_move)\n",
    "                return finalmove, board\n",
    "            # Grand roque\n",
    "            elif input_move == \"e1a1\" and board[7][4] == \"K\" and board[7][0] == \"R1\" and board[7][1] == ' ' and board[7][2] == ' ' and board[7][3] == ' ':    \n",
    "                board[7][0] = \" \"\n",
    "                board[7][4] = \" \"\n",
    "                board[7][3] = \"R2\"\n",
    "                board[7][2] = \"K\"\n",
    "                finalmove = \"a8d8 e8c8\"\n",
    "                client.bots.make_move(id_game, input_move)\n",
    "                return finalmove, board\n",
    "            elif (input_move[1] == \"2\" and input_move[3] == \"1\") :\n",
    "                move = input_move[2:]\n",
    "                previousmove = input_move[:2]\n",
    "                if (board[ligne.index(previousmove[1])][colonne.index(previousmove[0])][0] == \"p\") :\n",
    "                    input_piece = input(\"=> Saisir la nouvelle valeur de la pièce (n : Knight, b : Bishop, q : Queen, r : Rook) : \")\n",
    "                    input_move = move + \"=\" + input_piece\n",
    "                    client.bots.make_move(id_game, input_move)  \n",
    "                    board[ligne.index(move[1])][colonne.index(move[0])] = input_piece\n",
    "                    board[ligne.index(previousmove[1])][colonne.index(previousmove[0])] = ' '\n",
    "                    return finalmove, board\n",
    "                else :\n",
    "                    client.bots.make_move(id_game, input_move)\n",
    "                    move = input_move[2:]\n",
    "                    previousmove = input_move[:2]\n",
    "                    # Si un pion est mangé ou non \n",
    "                    if board[ligne.index(move[1])][colonne.index(move[0])] != ' ':\n",
    "                        finalmove = move + \"stock \" + input_move\n",
    "                    else:\n",
    "                        finalmove = input_move\n",
    "                    # Définition du plateau\n",
    "                    lastboard = board\n",
    "                    board[ligne.index(move[1])][colonne.index(move[0])] = lastboard[ligne.index(previousmove[1])][colonne.index(previousmove[0])]\n",
    "                    board[ligne.index(previousmove[1])][colonne.index(previousmove[0])] = ' '\n",
    "                    return finalmove, board\n",
    "            else:\n",
    "                client.bots.make_move(id_game, input_move)\n",
    "                move = input_move[2:]\n",
    "                previousmove = input_move[:2]\n",
    "                # Si un pion est mangé ou non \n",
    "                if board[ligne.index(move[1])][colonne.index(move[0])] != ' ':\n",
    "                    finalmove = move + \"stock \" + input_move\n",
    "                else:\n",
    "                    finalmove = input_move\n",
    "                # Définition du plateau\n",
    "                lastboard = board\n",
    "                board[ligne.index(move[1])][colonne.index(move[0])] = lastboard[ligne.index(previousmove[1])][colonne.index(previousmove[0])]\n",
    "                board[ligne.index(previousmove[1])][colonne.index(previousmove[0])] = ' '\n",
    "                return finalmove, board\n",
    "    except:\n",
    "        print(\"\\nErreur position\")\n",
    "        input_move = InputMove(id_game, board)\n",
    "    \n",
    "    return finalmove, board\n"
   ]
  },
  {
   "cell_type": "code",
   "execution_count": 21,
   "id": "0bb47da2",
   "metadata": {},
   "outputs": [],
   "source": [
    "def possible_moves(piece, current_position, color_player):\n",
    "    row, col = current_position\n",
    "    if (row >= 0 and row <= 7 and col >= 0 and col <= 7) :\n",
    "        possible_positions = []\n",
    "        if piece == 'pawn':\n",
    "            if (color_player == \"white\") :\n",
    "                if (row == 3) :\n",
    "                    possible_positions.append((row - 1, col))\n",
    "                    possible_positions.append((row - 2, col))\n",
    "                else:\n",
    "                    possible_positions.append((row - 1, col))\n",
    "                possible_positions.append((row - 1, col+1))\n",
    "                possible_positions.append((row - 1, col-1))\n",
    "            else :\n",
    "                if (row == 4) :\n",
    "                    possible_positions.append((row + 1, col))\n",
    "                    possible_positions.append((row + 2, col))\n",
    "                else:\n",
    "                    possible_positions.append((row + 1, col))\n",
    "                possible_positions.append((row + 1, col+1))\n",
    "                possible_positions.append((row + 1, col-1))\n",
    "                \n",
    "        elif piece == 'knight':\n",
    "            possible_positions.append((row + 2, col + 1))\n",
    "            possible_positions.append((row + 2, col - 1))\n",
    "            possible_positions.append((row - 2, col + 1))\n",
    "            possible_positions.append((row - 2, col - 1))\n",
    "            possible_positions.append((row + 1, col + 2))\n",
    "            possible_positions.append((row + 1, col - 2))\n",
    "            possible_positions.append((row - 1, col + 2))\n",
    "            possible_positions.append((row - 1, col - 2))\n",
    "        elif piece == 'bishop':\n",
    "            for i in range(1, 8):\n",
    "                possible_positions.append((row + i, col + i))\n",
    "                possible_positions.append((row - i, col - i))\n",
    "                possible_positions.append((row + i, col - i))\n",
    "                possible_positions.append((row - i, col + i))\n",
    "        elif piece == 'rook':\n",
    "            for i in range(1, 8):\n",
    "                possible_positions.append((row, col + i))\n",
    "                possible_positions.append((row, col - i))\n",
    "                possible_positions.append((row + i, col))\n",
    "                possible_positions.append((row - i, col))\n",
    "        elif piece == 'queen':\n",
    "            for i in range(1, 8):\n",
    "                possible_positions.append((row, col + i))\n",
    "                possible_positions.append((row, col - i))\n",
    "                possible_positions.append((row + i, col))\n",
    "                possible_positions.append((row - i, col))\n",
    "                possible_positions.append((row + i, col + i))\n",
    "                possible_positions.append((row - i, col - i))\n",
    "                possible_positions.append((row + i, col - i))\n",
    "                possible_positions.append((row - i, col + i))\n",
    "        elif piece == 'king':\n",
    "            possible_positions.append((row, col + 1))\n",
    "            possible_positions.append((row, col - 1))\n",
    "            possible_positions.append((row + 1, col))\n",
    "            possible_positions.append((row - 1, col))\n",
    "            possible_positions.append((row + 1, col + 1))\n",
    "            possible_positions.append((row - 1, col - 1))\n",
    "            possible_positions.append((row + 1, col - 1))\n",
    "            possible_positions.append((row - 1, col + 1))\n",
    "    \n",
    "        \n",
    "        return [pos for pos in possible_positions if all(0 <= coord <= 7 for coord in pos)]\n",
    "\n",
    "    else : \n",
    "        return 'Error'"
   ]
  },
  {
   "cell_type": "raw",
   "id": "18734029",
   "metadata": {},
   "source": [
    "# Test \n",
    "moves = \"g5\"\n",
    "pos = possible_moves('pawn', (ligne.index(moves[1]),colonne.index(moves[0])),\"black\")\n",
    "pos"
   ]
  },
  {
   "cell_type": "code",
   "execution_count": 22,
   "id": "dd7b1df2",
   "metadata": {},
   "outputs": [],
   "source": [
    "def ConversionMouv(positions):    \n",
    "    positionfinal = []\n",
    "    for i in range(len(positions)):\n",
    "        positionfinal.append(str(colonne[positions[i][1]]) + str(ligne[positions[i][0]]))\n",
    "    return positionfinal"
   ]
  },
  {
   "cell_type": "code",
   "execution_count": 23,
   "id": "996c63dd",
   "metadata": {},
   "outputs": [],
   "source": [
    "# Fonction pour obtenir les mouvements en direct de la partie\n",
    "def LiveMove(game_id):\n",
    "    response = requests.get(f'https://lichess.org/{game_id}')\n",
    "    PGN = response.text\n",
    "    PGN_String = str(PGN)\n",
    "    start = PGN_String.find(\"1. \")\n",
    "    substring = PGN_String[start:]\n",
    "    PGN_String = substring\n",
    "    moves = PGN_String.split(\"</div>\")[0]\n",
    "    moves = re.sub(r\"\\{.*?\\}\", \"\", moves)\n",
    "    return moves"
   ]
  },
  {
   "cell_type": "code",
   "execution_count": 24,
   "id": "3bdecdee",
   "metadata": {},
   "outputs": [
    {
     "name": "stdout",
     "output_type": "stream",
     "text": [
      "1. a4 e6 2. Nc3 Qf6 3. h4 Nc6 4. Rh3 d5 5. Rf3 Qe7 6. b4 Ne5 7. Nxd5 Qd6 8. Bb2 Ne7 9. Bxe5 exd5 *\n"
     ]
    }
   ],
   "source": [
    "# Exemple d'utilisation de la fonction\n",
    "#id_game = \"pdYClRba\"\n",
    "id_game = \"ztXyemyUJfDd\"\n",
    "id_game = \"t7vSZZvPOjrt\"\n",
    "id_game = \"ZgnhQZS9\"\n",
    "ListMove = LiveMove(id_game)\n",
    "\n",
    "print(ListMove)"
   ]
  },
  {
   "cell_type": "code",
   "execution_count": 25,
   "id": "77d7e97b",
   "metadata": {},
   "outputs": [],
   "source": [
    "def MouvEnnemy(tour, color, ListMove):\n",
    "    if (color == \"white\") :\n",
    "        Sep_LastMove = str(tour) +\". \"\n",
    "        StartLastMove = ListMove.find(Sep_LastMove)\n",
    "        SubstringLastMove = ListMove[StartLastMove + len(Sep_LastMove):]\n",
    "        moves = SubstringLastMove.split(\" *\")[0]\n",
    "        moves = moves.split(\" \")\n",
    "        moves = moves[1]\n",
    "        moves = moves.replace(\" \", \"\")\n",
    "        return moves\n",
    "    else :\n",
    "        Sep_LastMove = str(tour) +\". \"\n",
    "        StartLastMove = ListMove.find(Sep_LastMove)\n",
    "        SubstringLastMove = ListMove[StartLastMove:]\n",
    "        moves = SubstringLastMove.split(\" *\")[0]\n",
    "        moves = moves.split(\" \")\n",
    "        moves = moves[1] \n",
    "        moves = moves.replace(\" \", \"\")\n",
    "        return moves"
   ]
  },
  {
   "cell_type": "code",
   "execution_count": 26,
   "id": "0153a9ac",
   "metadata": {},
   "outputs": [],
   "source": [
    "def extraire_mouvement(chaine):\n",
    "    mouvement = re.search(r\"[a-h][1-8]\", chaine)\n",
    "    if mouvement:\n",
    "        return mouvement.group()\n",
    "    else:\n",
    "        return None"
   ]
  },
  {
   "cell_type": "code",
   "execution_count": 27,
   "id": "c31b86b2",
   "metadata": {},
   "outputs": [],
   "source": [
    "def PositionFinal(move, board, color_player, positions, piece, letter) :    \n",
    "    initial_position = \"\"\n",
    "    for i in range(len(positions)) :\n",
    "        if (color_player == \"white\" and board[ligne.index(positions[i][1])][colonne.index(positions[i][0])] != ' ' and board[ligne.index(positions[i][1])][colonne.index(positions[i][0])][0] == letter) :\n",
    "            piece = board[ligne.index(positions[i][1])][colonne.index(positions[i][0])]\n",
    "            if (len(move) == 2):\n",
    "                board[ligne.index(move[1])][colonne.index(move[0])] = piece\n",
    "            elif (len(move) == 3) :\n",
    "                board[ligne.index(move[2])][colonne.index(move[1])] = piece\n",
    "            else : \n",
    "                board[ligne.index(move[2])][colonne.index(move[1])] = piece\n",
    "            board[ligne.index(positions[i][1])][colonne.index(positions[i][0])] = ' '\n",
    "            break\n",
    "        elif (color_player == \"black\" and board[ligne.index(positions[i][1])][colonne.index(positions[i][0])] != ' ' and board[ligne.index(positions[i][1])][colonne.index(positions[i][0])][0] == letter.lower()) :\n",
    "            piece = board[ligne.index(positions[i][1])][colonne.index(positions[i][0])]\n",
    "            if (len(move) == 2):\n",
    "                board[ligne.index(move[1])][colonne.index(move[0])] = piece\n",
    "            elif (len(move) == 3) :\n",
    "                board[ligne.index(move[2])][colonne.index(move[1])] = piece\n",
    "            else : \n",
    "                board[ligne.index(move[2])][colonne.index(move[1])] = piece\n",
    "            board[ligne.index(positions[i][1])][colonne.index(positions[i][0])] = ' '\n",
    "            break\n",
    "            \n",
    "    initial_position = str(positions[i][0]) + str(positions[i][1])\n",
    "    finalmove = initial_position + extraire_mouvement(move)\n",
    "    return finalmove, board"
   ]
  },
  {
   "cell_type": "code",
   "execution_count": 28,
   "id": "2ba28743",
   "metadata": {},
   "outputs": [],
   "source": [
    "def PositionFinal4(move, board, color_player, positions, piece, letter) :    \n",
    "    initial_position = \"\"\n",
    "    depart = move[1]\n",
    "    move = move[0:1] + move[2:]\n",
    "    \n",
    "    lastposition = positions\n",
    "    positions = []\n",
    "\n",
    "    if isinstance(depart, str):\n",
    "        for element in lastposition:\n",
    "            if element.startswith(depart):\n",
    "                positions.append(element)\n",
    "    else : \n",
    "        for element in lastposition:\n",
    "            if element[1] == depart:\n",
    "                positions.append(element)\n",
    "        \n",
    "    for i in range(len(positions)) :\n",
    "        if (color_player == \"white\" and board[ligne.index(positions[i][1])][colonne.index(positions[i][0])] != ' ' and board[ligne.index(positions[i][1])][colonne.index(positions[i][0])][0] == letter) :\n",
    "            piece = board[ligne.index(positions[i][1])][colonne.index(positions[i][0])]\n",
    "            if (len(move) == 2):\n",
    "                board[ligne.index(move[1])][colonne.index(move[0])] = piece\n",
    "            elif (len(move) == 3) :\n",
    "                board[ligne.index(move[2])][colonne.index(move[1])] = piece\n",
    "            else : \n",
    "                board[ligne.index(move[2])][colonne.index(move[1])] = piece\n",
    "            board[ligne.index(positions[i][1])][colonne.index(positions[i][0])] = ' '\n",
    "            break\n",
    "        elif (color_player == \"black\" and board[ligne.index(positions[i][1])][colonne.index(positions[i][0])] != ' ' and board[ligne.index(positions[i][1])][colonne.index(positions[i][0])][0] == letter.lower()) :\n",
    "            piece = board[ligne.index(positions[i][1])][colonne.index(positions[i][0])]\n",
    "            if (len(move) == 2):\n",
    "                board[ligne.index(move[1])][colonne.index(move[0])] = piece\n",
    "            elif (len(move) == 3) :\n",
    "                board[ligne.index(move[2])][colonne.index(move[1])] = piece\n",
    "            else : \n",
    "                board[ligne.index(move[2])][colonne.index(move[1])] = piece\n",
    "            board[ligne.index(positions[i][1])][colonne.index(positions[i][0])] = ' '\n",
    "            break\n",
    "            \n",
    "    initial_position = str(positions[i][0]) + str(positions[i][1])\n",
    "    finalmove = initial_position + extraire_mouvement(move)\n",
    "    return finalmove, board"
   ]
  },
  {
   "cell_type": "code",
   "execution_count": 29,
   "id": "2473e746",
   "metadata": {},
   "outputs": [],
   "source": [
    "def PositionFinalX(move, board, color_player, positions, piece, letter) :   \n",
    "    move = move.replace(\"x\", \"\")\n",
    "    initial_position = \"\"\n",
    "    for i in range(len(positions)) :\n",
    "        if (color_player == \"white\" and board[ligne.index(positions[i][1])][colonne.index(positions[i][0])] != ' ' and board[ligne.index(positions[i][1])][colonne.index(positions[i][0])][0] == letter) :\n",
    "            piece = board[ligne.index(positions[i][1])][colonne.index(positions[i][0])]\n",
    "            if (len(move) == 2):\n",
    "                board[ligne.index(move[1])][colonne.index(move[0])] = piece\n",
    "            elif (len(move) == 3) :\n",
    "                board[ligne.index(move[2])][colonne.index(move[1])] = piece\n",
    "            else : \n",
    "                board[ligne.index(move[2])][colonne.index(move[1])] = piece\n",
    "            board[ligne.index(positions[i][1])][colonne.index(positions[i][0])] = ' '\n",
    "            break\n",
    "        elif (color_player == \"black\" and board[ligne.index(positions[i][1])][colonne.index(positions[i][0])] != ' ' and board[ligne.index(positions[i][1])][colonne.index(positions[i][0])][0] == letter.lower()) :\n",
    "            piece = board[ligne.index(positions[i][1])][colonne.index(positions[i][0])]\n",
    "            if (len(move) == 2):\n",
    "                board[ligne.index(move[1])][colonne.index(move[0])] = piece\n",
    "            elif (len(move) == 3) :\n",
    "                board[ligne.index(move[2])][colonne.index(move[1])] = piece\n",
    "            else : \n",
    "                board[ligne.index(move[2])][colonne.index(move[1])] = piece\n",
    "            board[ligne.index(positions[i][1])][colonne.index(positions[i][0])] = ' '\n",
    "            break\n",
    "            \n",
    "    initial_position = str(positions[i][0]) + str(positions[i][1])\n",
    "    finalmove = extraire_mouvement(move) + \"stock \" + initial_position + extraire_mouvement(move)\n",
    "    return finalmove, board"
   ]
  },
  {
   "cell_type": "code",
   "execution_count": 30,
   "id": "cb9b20ac",
   "metadata": {},
   "outputs": [],
   "source": [
    "def PositionFinalX4(move, board, color_player, positions, piece, letter) :    \n",
    "    move = move.replace(\"x\",\"\")\n",
    "    initial_position = \"\"\n",
    "    depart = move[2]\n",
    "    move = move[0:1] + move[2:]\n",
    "    \n",
    "    lastposition = positions\n",
    "    positions = []\n",
    "\n",
    "    if isinstance(depart, str):\n",
    "        for element in lastposition:\n",
    "            if element.startswith(depart):\n",
    "                positions.append(element)\n",
    "    else : \n",
    "        for element in lastposition:\n",
    "            if element[1] == depart:\n",
    "                positions.append(element)\n",
    "                \n",
    "    for i in range(len(positions)) :\n",
    "        if (color_player == \"white\" and board[ligne.index(positions[i][1])][colonne.index(positions[i][0])] != ' ' and board[ligne.index(positions[i][1])][colonne.index(positions[i][0])][0] == letter) :\n",
    "            piece = board[ligne.index(positions[i][1])][colonne.index(positions[i][0])]\n",
    "            if (len(move) == 2):\n",
    "                board[ligne.index(move[1])][colonne.index(move[0])] = piece\n",
    "            elif (len(move) == 3) :\n",
    "                board[ligne.index(move[2])][colonne.index(move[1])] = piece\n",
    "            else : \n",
    "                board[ligne.index(move[2])][colonne.index(move[1])] = piece\n",
    "            board[ligne.index(positions[i][1])][colonne.index(positions[i][0])] = ' '\n",
    "            break\n",
    "        elif (color_player == \"black\" and board[ligne.index(positions[i][1])][colonne.index(positions[i][0])] != ' ' and board[ligne.index(positions[i][1])][colonne.index(positions[i][0])][0] == letter.lower()) :\n",
    "            piece = board[ligne.index(positions[i][1])][colonne.index(positions[i][0])]\n",
    "            if (len(move) == 2):\n",
    "                board[ligne.index(move[1])][colonne.index(move[0])] = piece\n",
    "            elif (len(move) == 3) :\n",
    "                board[ligne.index(move[2])][colonne.index(move[1])] = piece\n",
    "            else : \n",
    "                board[ligne.index(move[2])][colonne.index(move[1])] = piece\n",
    "            board[ligne.index(positions[i][1])][colonne.index(positions[i][0])] = ' '\n",
    "            break\n",
    "            \n",
    "    initial_position = str(positions[i][0]) + str(positions[i][1])\n",
    "    finalmove = extraire_mouvement(move) + \"stock \" + initial_position + extraire_mouvement(move)\n",
    "    return finalmove, board"
   ]
  },
  {
   "cell_type": "raw",
   "id": "66040ebf",
   "metadata": {},
   "source": [
    "def trouver_ligne_roque(board, color_player):\n",
    "    for sublist in board:\n",
    "        if (color_player == \"white\") :\n",
    "            if (\"R1\" in sublist and \"R2\" in sublist and \"K\" in sublist) :\n",
    "                return sublist\n",
    "            elif (\"R1\" in sublist and \"K\" in sublist) :\n",
    "                return sublist\n",
    "            elif (\"R2\" in sublist and \"K\" in sublist) :\n",
    "                return sublist         \n",
    "        else : \n",
    "            if (\"r1\" in sublist and \"r2\" in sublist and \"k\" in sublist) :\n",
    "                return sublist\n",
    "            elif (\"r1\" in sublist and \"k\" in sublist) :\n",
    "                return sublist\n",
    "            elif (\"r2\" in sublist and \"k\" in sublist) :\n",
    "                return sublist  "
   ]
  },
  {
   "cell_type": "raw",
   "id": "fa30390e",
   "metadata": {},
   "source": [
    "board = [[\"R1\", \"N1\", \"B1\", \"Q\", \"K\", \"B2\", \"N2\", \"R2\"],\n",
    "    [\"P1\", \"P2\", \"P3\", \"P4\", \"P5\", \"P6\", \"P7\", \"P8\"],\n",
    "    [\" \", \" \", \" \", \" \", \" \", \" \", \" \", \" \"],\n",
    "    [\" \", \" \", \" \", \" \", \" \", \" \", \" \", \" \"],\n",
    "    [\" \", \" \", \" \", \" \", \" \", \" \", \" \", \" \"],\n",
    "    [\" \", \" \", \" \", \" \", \" \", \" \", \" \", \" \"],\n",
    "    [\"p1\", \"p2\", \"p3\", \"p4\", \"p5\", \"p6\", \"p7\", \"p8\"],\n",
    "    [\"r1\", \"n1\", \"b1\", \"q\", \"k\", \"b2\", \"n2\", \"r2\"]\n",
    "]\n",
    "trouver_ligne_roque(board, \"white\")"
   ]
  },
  {
   "cell_type": "raw",
   "id": "edee16d0",
   "metadata": {},
   "source": [
    "def compter_cases_vides_entre_R_et_K(liste, R, K):\n",
    "    index_R1 = liste.index(R)\n",
    "    index_K = liste.index(K)\n",
    "    cases_entre_R1_et_K = liste[index_R1+1:index_K]\n",
    "    if all(case == \" \" for case in cases_entre_R1_et_K):\n",
    "        return len(cases_entre_R1_et_K)\n",
    "    else:\n",
    "        return \"Il y a des pièces entre R1 et K\"\n"
   ]
  },
  {
   "cell_type": "code",
   "execution_count": 31,
   "id": "812ae324",
   "metadata": {},
   "outputs": [],
   "source": [
    "def ROQUE(board, move, color_player):\n",
    "    \"\"\"\n",
    "    Fonction pour réaliser un roque (grand ou petit) en fonction de la notation FEN `O-O` (petit roque) ou `O-O-O` (grand roque)\n",
    "\n",
    "    Args:\n",
    "    - board (list): Liste de listes représentant l'état actuel du plateau de jeu.\n",
    "    - move (str): Notation FEN du roque à réaliser, soit 'O-O' pour le petit roque, soit 'O-O-O' pour le grand roque.\n",
    "\n",
    "    Returns:\n",
    "    - board (list): Liste de listes représentant le nouvel état du plateau de jeu après le roque.\n",
    "    \"\"\"\n",
    "    if move == 'O-O':\n",
    "        if (color_player == \"white\") :\n",
    "            # Vérification des conditions pour le petit roque\n",
    "            if board[0][4] == 'K' and board[0][7] == 'R2':\n",
    "#                for i in range(5, 7):\n",
    "#                    if board[0][i] != ' ':\n",
    "#                        # Si une case entre le roi et la tour n'est pas vide, on ne peut pas roquer\n",
    "#                        return board\n",
    "                # Les cases entre le roi et la tour sont vides, on peut réaliser le roque\n",
    "                board[0][6] = 'K'\n",
    "                board[0][5] = 'R2'\n",
    "                board[0][4] = ' '\n",
    "                board[0][7] = ' '\n",
    "                return \"a8a6 a5a7\", board\n",
    "        if (color_player == \"black\") :\n",
    "                # Vérification des conditions pour le petit roque\n",
    "                if board[7][4] == 'k' and board[7][7] == 'r2':\n",
    "#                    for i in range(5, 7):\n",
    "#                        if board[7][i] != ' ':\n",
    "#                            # Si une case entre le roi et la tour n'est pas vide, on ne peut pas roquer\n",
    "#                            return board\n",
    "                    # Les cases entre le roi et la tour sont vides, on peut réaliser le roque\n",
    "                    board[7][6] = 'k'\n",
    "                    board[7][5] = 'r2'\n",
    "                    board[7][4] = ' '\n",
    "                    board[7][7] = ' '\n",
    "                    return \"h8h6 h5h7\", board\n",
    "    elif move == 'O-O-O':\n",
    "        if (color_player == \"white\") :\n",
    "            # Vérification des conditions pour le grand roque\n",
    "            if board[0][4] == 'K' and board[0][0] == 'R1':\n",
    "#                for i in range(1, 4):\n",
    "#                    if board[0][i] != ' ':\n",
    "#                        # Si une case entre le roi et la tour n'est pas vide, on ne peut pas roquer\n",
    "#                        return board\n",
    "                # Les cases entre le roi et la tour sont vides, on peut réaliser le roque\n",
    "                board[0][2] = 'K'\n",
    "                board[0][3] = 'R1'\n",
    "                board[0][4] = ' '\n",
    "                board[0][0] = ' '\n",
    "                return \"a1a4 a5a3\", board\n",
    "        if (color_player == \"black\") :\n",
    "            # Vérification des conditions pour le grand roque\n",
    "            if board[7][4] == 'k' and board[7][0] == 'r1':\n",
    "#                for i in range(1, 4):\n",
    "#                    if board[7][i] != ' ':\n",
    "#                        # Si une case entre le roi et la tour n'est pas vide, on ne peut pas roquer\n",
    "#                        return board\n",
    "                # Les cases entre le roi et la tour sont vides, on peut réaliser le roque\n",
    "                board[7][2] = 'k'\n",
    "                board[7][3] = 'r1'\n",
    "                board[7][4] = ' '\n",
    "                board[7][0] = ' '\n",
    "                return \"h1h4 h5h3\", board\n",
    "    # Si aucun roque n'est possible, on renvoie le plateau de jeu inchangé\n",
    "    return \"\", board"
   ]
  },
  {
   "cell_type": "code",
   "execution_count": 32,
   "id": "df485fcc",
   "metadata": {},
   "outputs": [],
   "source": [
    "def PossibleMove(move, board, color_player):\n",
    "    move = move.replace(\"+\",\"\")\n",
    "    if (len(move) == 2):\n",
    "        # Nous avons donc un pion\n",
    "        piece = 'pawn'\n",
    "        letter = 'P'\n",
    "        positions = ConversionMouv(possible_moves(piece, (ligne.index(move[1]),colonne.index(move[0])), color_player))\n",
    "        finalmove, board = PositionFinal(move, board, color_player, positions, piece, letter)\n",
    "        return finalmove, board\n",
    "    \n",
    "    elif (move == \"O-O\" or move == \"O-O-O\") :\n",
    "        finalmove, board = ROQUE(board, move, color_player)\n",
    "        return finalmove, board\n",
    "        \n",
    "    else :\n",
    "        letter = move[0]\n",
    "        if (letter == \"N\") :\n",
    "            piece = 'knight'\n",
    "        elif (letter == \"B\") :\n",
    "            piece = 'bishop'\n",
    "        elif (letter == \"R\") :\n",
    "            piece = 'rook'\n",
    "        elif (letter == \"Q\") :\n",
    "            piece = 'queen'\n",
    "        elif (letter == \"K\") :\n",
    "            piece = 'king'\n",
    "        else :\n",
    "            piece = 'pawn'\n",
    "            \n",
    "        if 'x' not in move : \n",
    "            if (len(move) == 3): \n",
    "                positions = ConversionMouv(possible_moves(piece, (ligne.index(move[2]),colonne.index(move[1])), color_player))\n",
    "                finalmove, board = PositionFinal(move, board, color_player, positions, piece, letter)\n",
    "                return finalmove, board\n",
    "            else :   \n",
    "                positions = ConversionMouv(possible_moves(piece, (ligne.index(move[3]),colonne.index(move[2])), color_player))\n",
    "                finalmove, board = PositionFinal4(move, board, color_player, positions, piece, letter)\n",
    "                return finalmove, board\n",
    "        else :\n",
    "            move = move.replace(\"x\",\"\")\n",
    "            if (len(move) == 3): \n",
    "                positions = ConversionMouv(possible_moves(piece, (ligne.index(move[2]),colonne.index(move[1])), color_player))\n",
    "                finalmove, board = PositionFinalX(move, board, color_player, positions, piece, letter)\n",
    "                return finalmove, board\n",
    "            else :   \n",
    "                positions = ConversionMouv(possible_moves(piece, (ligne.index(move[3]),colonne.index(move[2])), color_player))\n",
    "                finalmove, board = PositionFinalX4(move, board, color_player, positions, piece, letter)\n",
    "                return finalmove, board\n",
    "        return \"Error\"\n",
    "    return \"Error\"\n"
   ]
  },
  {
   "cell_type": "raw",
   "id": "0dd9189a",
   "metadata": {},
   "source": [
    "finalmove, board = PossibleMove(\"Kg5\", board, \"black\")\n",
    "finalmove, board = PossibleMove(\"Kg5\", board, \"black\")"
   ]
  },
  {
   "cell_type": "raw",
   "id": "fec4366b",
   "metadata": {},
   "source": [
    "finalmove"
   ]
  },
  {
   "cell_type": "raw",
   "id": "750d4f5e",
   "metadata": {},
   "source": [
    "display_board(board)"
   ]
  },
  {
   "cell_type": "markdown",
   "id": "29cb62db",
   "metadata": {},
   "source": [
    "# _______________________________"
   ]
  },
  {
   "cell_type": "markdown",
   "id": "250cbd9a",
   "metadata": {},
   "source": [
    "# _______________________________"
   ]
  },
  {
   "cell_type": "markdown",
   "id": "bde7f1a9",
   "metadata": {},
   "source": [
    "# _______________________________"
   ]
  },
  {
   "cell_type": "code",
   "execution_count": 33,
   "id": "c5fddc7d",
   "metadata": {},
   "outputs": [],
   "source": [
    "import serial"
   ]
  },
  {
   "cell_type": "code",
   "execution_count": 34,
   "id": "353ce816",
   "metadata": {},
   "outputs": [],
   "source": [
    "DisplayBoard = [    [\"R1\", \"N1\", \"B1\", \"Q\", \"K\", \"B2\", \"N2\", \"R2\"],\n",
    "    [\"P1\", \"P2\", \"P3\", \"P4\", \"P5\", \"P6\", \"P7\", \"P8\"],\n",
    "    [\" \", \" \", \" \", \" \", \" \", \" \", \" \", \" \"],\n",
    "    [\" \", \" \", \" \", \" \", \" \", \" \", \" \", \" \"],\n",
    "    [\" \", \" \", \" \", \" \", \" \", \" \", \" \", \" \"],\n",
    "    [\" \", \" \", \" \", \" \", \" \", \" \", \" \", \" \"],\n",
    "    [\"p1\", \"p2\", \"p3\", \"p4\", \"p5\", \"p6\", \"p7\", \"p8\"],\n",
    "    [\"r1\", \"n1\", \"b1\", \"q\", \"k\", \"b2\", \"n2\", \"r2\"]\n",
    "]\n",
    "tour = 1\n",
    "\n",
    "def Game(DisplayBoard, tour) :\n",
    "    print(\"---------------------------------------\")\n",
    "    print(\"\\nCréation de la partie contre une IA\\n\")\n",
    "    print(\"---------------------------------------\")\n",
    "    id_game, color_player, color_enemy = CreateIA()\n",
    "    print(\"Identifiant de la game : \", id_game)\n",
    "    EndGame = False\n",
    "    while (EndGame == False) :\n",
    "        if (color_player == \"white\") :\n",
    "            finalmove_player, DisplayBoard = InputMove(id_game, DisplayBoard,color_player)\n",
    "            print(f\"Commande Arduino : {finalmove_player}\")\n",
    "            print(\"\\n\\n\", display_board(DisplayBoard), \"\\n\\n\")\n",
    "            time.sleep(7)\n",
    "            ListMove = LiveMove(id_game)    \n",
    "            if any(result in ListMove for result in [\"0-1\", \"1-0\", \"0,5-0,5\", \"1/2-1/2\"]):\n",
    "                EndGame = True\n",
    "                break\n",
    "            move = MouvEnnemy(tour, color_player, ListMove)\n",
    "            finalmove, DisplayBoard = PossibleMove(move, DisplayBoard, color_enemy)\n",
    "            print(f\"\\nEnnemy movement : {finalmove}\\n\")\n",
    "            print(\"\\n\\n\", display_board(DisplayBoard), \"\\n\\n\")\n",
    "            time.sleep(7)\n",
    "        else :\n",
    "            time.sleep(7)\n",
    "            ListMove = LiveMove(id_game)\n",
    "            move = MouvEnnemy(tour, color_player, ListMove)\n",
    "            finalmove, DisplayBoard = PossibleMove(move, DisplayBoard, color_enemy)\n",
    "            print(f\"\\nEnnemy movement : {finalmove}\\n\")\n",
    "            print(\"\\n\\n\", display_board(DisplayBoard), \"\\n\\n\")\n",
    "            time.sleep(7)\n",
    "            ListMove = LiveMove(id_game)    \n",
    "            if any(result in ListMove for result in [\"0-1\", \"1-0\", \"0,5-0,5\", \"1/2-1/2\"]):\n",
    "                EndGame = True\n",
    "                break\n",
    "            finalmove_player, DisplayBoard = InputMove(id_game, DisplayBoard, color_player)\n",
    "            print(\"\\n\\n\", display_board(DisplayBoard), \"\\n\\n\")\n",
    "            time.sleep(7)\n",
    "            \n",
    "        ListMove = LiveMove(id_game)    \n",
    "        if any(result in ListMove for result in [\"0-1\", \"1-0\", \"0,5-0,5\", \"1/2-1/2\"]):\n",
    "            EndGame = True\n",
    "        \n",
    "        tour = tour + 1\n",
    "    \n",
    "    ListMove = LiveMove(id_game) \n",
    "    print(\"\\n\\n---------------\")\n",
    "    print(\"Fin de la game.\")\n",
    "    print(\"---------------\\n\\n\")\n",
    "    if \"0-1\" in ListMove:\n",
    "        print(\"\\nVictoire des noirs\")\n",
    "    elif \"1-0\" in ListMove: \n",
    "        print(\"\\nVictoire des blancs\")\n",
    "    else :\n",
    "        print(\"\\nMatch Nul\")\n",
    "    \n",
    "    print(f\"\\n\\nNombre de tours joués : {tour}\")\n",
    "        \n",
    "\n",
    "    \n",
    "        \n",
    "        "
   ]
  },
  {
   "cell_type": "raw",
   "id": "0f0700c7",
   "metadata": {},
   "source": [
    "DisplayBoard = [    [\"R1\", \"N1\", \"B1\", \"Q\", \"K\", \"B2\", \"N2\", \"R2\"],\n",
    "    [\"P1\", \"P2\", \"P3\", \"P4\", \"P5\", \"P6\", \"P7\", \"P8\"],\n",
    "    [\" \", \" \", \" \", \" \", \" \", \" \", \" \", \" \"],\n",
    "    [\" \", \" \", \" \", \" \", \" \", \" \", \" \", \" \"],\n",
    "    [\" \", \" \", \" \", \" \", \" \", \" \", \" \", \" \"],\n",
    "    [\" \", \" \", \" \", \" \", \" \", \" \", \" \", \" \"],\n",
    "    [\"p1\", \"p2\", \"p3\", \"p4\", \"p5\", \"p6\", \"p7\", \"p8\"],\n",
    "    [\"r1\", \"n1\", \"b1\", \"q\", \"k\", \"b2\", \"n2\", \"r2\"]\n",
    "]\n",
    "tour = 1\n",
    "\n",
    "def Game(DisplayBoard, tour) :\n",
    "    ser = serial.Serial('COM3', 9600) # Ouvre une connexion série à 9600 bauds\n",
    "    print(\"---------------------------------------\")\n",
    "    print(\"\\nCréation de la partie contre une IA\\n\")\n",
    "    print(\"---------------------------------------\")\n",
    "    id_game, color_player, color_enemy = CreateIA()\n",
    "    print(\"Identifiant de la game : \", id_game)\n",
    "    EndGame = False\n",
    "    while (EndGame == False) :\n",
    "        if (color_player == \"white\") :\n",
    "            finalmove_player, DisplayBoard = InputMove(id_game, DisplayBoard,color_player)\n",
    "            print(f\"Commande Arduino : {finalmove_player}\")\n",
    "            time.sleep(4)\n",
    "            ser.write(finalmove_player.encode())\n",
    "            time.sleep(4)\n",
    "            print(\"\\n\\n\", display_board(DisplayBoard), \"\\n\\n\")\n",
    "            time.sleep(7)\n",
    "            ListMove = LiveMove(id_game)    \n",
    "            if any(result in ListMove for result in [\"0-1\", \"1-0\", \"0,5-0,5\", \"1/2-1/2\"]):\n",
    "                EndGame = True\n",
    "                break\n",
    "            move = MouvEnnemy(tour, color_player, ListMove)\n",
    "            finalmove, DisplayBoard = PossibleMove(move, DisplayBoard, color_enemy)\n",
    "            print(f\"\\nEnnemy movement : {finalmove}\\n\")\n",
    "            time.sleep(4)\n",
    "            ser.write(finalmove.encode())\n",
    "            time.sleep(4)\n",
    "            print(\"\\n\\n\", display_board(DisplayBoard), \"\\n\\n\")\n",
    "            time.sleep(7)\n",
    "        else :\n",
    "            time.sleep(7)\n",
    "            ListMove = LiveMove(id_game)\n",
    "            move = MouvEnnemy(tour, color_player, ListMove)\n",
    "            finalmove, DisplayBoard = PossibleMove(move, DisplayBoard, color_enemy)\n",
    "            print(f\"\\nEnnemy movement : {finalmove}\\n\")\n",
    "            time.sleep(4)\n",
    "            ser.write(finalmove.encode())\n",
    "            time.sleep(4)\n",
    "            print(\"\\n\\n\", display_board(DisplayBoard), \"\\n\\n\")\n",
    "            time.sleep(7)\n",
    "            ListMove = LiveMove(id_game)    \n",
    "            if any(result in ListMove for result in [\"0-1\", \"1-0\", \"0,5-0,5\", \"1/2-1/2\"]):\n",
    "                EndGame = True\n",
    "                break\n",
    "            finalmove_player, DisplayBoard = InputMove(id_game, DisplayBoard, color_player)\n",
    "            time.sleep(4)\n",
    "            ser.write(finalmove_player.encode())\n",
    "            time.sleep(4)\n",
    "            print(\"\\n\\n\", display_board(DisplayBoard), \"\\n\\n\")\n",
    "            time.sleep(7)\n",
    "            \n",
    "        ListMove = LiveMove(id_game)    \n",
    "        if any(result in ListMove for result in [\"0-1\", \"1-0\", \"0,5-0,5\", \"1/2-1/2\"]):\n",
    "            EndGame = True\n",
    "        \n",
    "        tour = tour + 1\n",
    "    \n",
    "    ser.close()\n",
    "    print(\"\\n\\n---------------\")\n",
    "    print(\"Fin de la game.\")\n",
    "    print(\"---------------\\n\\n\")\n",
    "    if \"0-1\" in ListMove:\n",
    "        print(\"\\nVictoire des noirs\")\n",
    "    elif \"1-0\" in ListMove: \n",
    "        print(\"\\nVictoire des blancs\")\n",
    "    else :\n",
    "        print(\"\\nMatch Nul\")\n",
    "    \n",
    "    print(f\"\\n\\nNombre de tours joués : {tour}\")\n",
    "        \n",
    "\n",
    "    \n",
    "        \n",
    "        "
   ]
  },
  {
   "cell_type": "code",
   "execution_count": 35,
   "id": "ca9082dd",
   "metadata": {
    "scrolled": false
   },
   "outputs": [
    {
     "name": "stdout",
     "output_type": "stream",
     "text": [
      "---------------------------------------\n",
      "\n",
      "Création de la partie contre une IA\n",
      "\n",
      "---------------------------------------\n",
      "Saisir le niveau de difficulté de l'IA (1 à 8) : 8\n",
      "\n",
      "IA de difficulté 8/8.\n",
      "\n",
      "Saisir la couleur du joueur (white or black): white\n",
      "\n",
      "Vous avez choisi la couleur : white.\n",
      "\n",
      "Création de la game contre l'IA\n",
      "Identifiant de la game :  BaoJrg5K\n"
     ]
    },
    {
     "ename": "KeyboardInterrupt",
     "evalue": "Interrupted by user",
     "output_type": "error",
     "traceback": [
      "\u001b[1;31m---------------------------------------------------------------------------\u001b[0m",
      "\u001b[1;31mKeyboardInterrupt\u001b[0m                         Traceback (most recent call last)",
      "\u001b[1;32m~\\AppData\\Local\\Temp\\ipykernel_15348\\2021161495.py\u001b[0m in \u001b[0;36m<module>\u001b[1;34m\u001b[0m\n\u001b[0;32m      9\u001b[0m ]\n\u001b[0;32m     10\u001b[0m \u001b[0mtour\u001b[0m \u001b[1;33m=\u001b[0m \u001b[1;36m1\u001b[0m\u001b[1;33m\u001b[0m\u001b[1;33m\u001b[0m\u001b[0m\n\u001b[1;32m---> 11\u001b[1;33m \u001b[0mGame\u001b[0m\u001b[1;33m(\u001b[0m\u001b[0mDisplayBoard\u001b[0m\u001b[1;33m,\u001b[0m \u001b[0mtour\u001b[0m\u001b[1;33m)\u001b[0m\u001b[1;33m\u001b[0m\u001b[1;33m\u001b[0m\u001b[0m\n\u001b[0m",
      "\u001b[1;32m~\\AppData\\Local\\Temp\\ipykernel_15348\\828619460.py\u001b[0m in \u001b[0;36mGame\u001b[1;34m(DisplayBoard, tour)\u001b[0m\n\u001b[0;32m     19\u001b[0m     \u001b[1;32mwhile\u001b[0m \u001b[1;33m(\u001b[0m\u001b[0mEndGame\u001b[0m \u001b[1;33m==\u001b[0m \u001b[1;32mFalse\u001b[0m\u001b[1;33m)\u001b[0m \u001b[1;33m:\u001b[0m\u001b[1;33m\u001b[0m\u001b[1;33m\u001b[0m\u001b[0m\n\u001b[0;32m     20\u001b[0m         \u001b[1;32mif\u001b[0m \u001b[1;33m(\u001b[0m\u001b[0mcolor_player\u001b[0m \u001b[1;33m==\u001b[0m \u001b[1;34m\"white\"\u001b[0m\u001b[1;33m)\u001b[0m \u001b[1;33m:\u001b[0m\u001b[1;33m\u001b[0m\u001b[1;33m\u001b[0m\u001b[0m\n\u001b[1;32m---> 21\u001b[1;33m             \u001b[0mfinalmove_player\u001b[0m\u001b[1;33m,\u001b[0m \u001b[0mDisplayBoard\u001b[0m \u001b[1;33m=\u001b[0m \u001b[0mInputMove\u001b[0m\u001b[1;33m(\u001b[0m\u001b[0mid_game\u001b[0m\u001b[1;33m,\u001b[0m \u001b[0mDisplayBoard\u001b[0m\u001b[1;33m,\u001b[0m\u001b[0mcolor_player\u001b[0m\u001b[1;33m)\u001b[0m\u001b[1;33m\u001b[0m\u001b[1;33m\u001b[0m\u001b[0m\n\u001b[0m\u001b[0;32m     22\u001b[0m             \u001b[0mprint\u001b[0m\u001b[1;33m(\u001b[0m\u001b[1;34mf\"Commande Arduino : {finalmove_player}\"\u001b[0m\u001b[1;33m)\u001b[0m\u001b[1;33m\u001b[0m\u001b[1;33m\u001b[0m\u001b[0m\n\u001b[0;32m     23\u001b[0m             \u001b[0mprint\u001b[0m\u001b[1;33m(\u001b[0m\u001b[1;34m\"\\n\\n\"\u001b[0m\u001b[1;33m,\u001b[0m \u001b[0mdisplay_board\u001b[0m\u001b[1;33m(\u001b[0m\u001b[0mDisplayBoard\u001b[0m\u001b[1;33m)\u001b[0m\u001b[1;33m,\u001b[0m \u001b[1;34m\"\\n\\n\"\u001b[0m\u001b[1;33m)\u001b[0m\u001b[1;33m\u001b[0m\u001b[1;33m\u001b[0m\u001b[0m\n",
      "\u001b[1;32m~\\AppData\\Local\\Temp\\ipykernel_15348\\3409823353.py\u001b[0m in \u001b[0;36mInputMove\u001b[1;34m(id_game, board, color_player)\u001b[0m\n\u001b[0;32m      1\u001b[0m \u001b[1;32mdef\u001b[0m \u001b[0mInputMove\u001b[0m\u001b[1;33m(\u001b[0m\u001b[0mid_game\u001b[0m\u001b[1;33m,\u001b[0m \u001b[0mboard\u001b[0m\u001b[1;33m,\u001b[0m \u001b[0mcolor_player\u001b[0m\u001b[1;33m)\u001b[0m\u001b[1;33m:\u001b[0m\u001b[1;33m\u001b[0m\u001b[1;33m\u001b[0m\u001b[0m\n\u001b[1;32m----> 2\u001b[1;33m     \u001b[0minput_move\u001b[0m \u001b[1;33m=\u001b[0m \u001b[0mInputPos\u001b[0m\u001b[1;33m(\u001b[0m\u001b[1;33m)\u001b[0m\u001b[1;33m\u001b[0m\u001b[1;33m\u001b[0m\u001b[0m\n\u001b[0m\u001b[0;32m      3\u001b[0m     \u001b[0mfinalmove\u001b[0m \u001b[1;33m=\u001b[0m \u001b[1;34m''\u001b[0m\u001b[1;33m\u001b[0m\u001b[1;33m\u001b[0m\u001b[0m\n\u001b[0;32m      4\u001b[0m     \u001b[0mprint\u001b[0m\u001b[1;33m(\u001b[0m\u001b[1;34m\"\\n\"\u001b[0m\u001b[1;33m)\u001b[0m\u001b[1;33m\u001b[0m\u001b[1;33m\u001b[0m\u001b[0m\n\u001b[0;32m      5\u001b[0m     \u001b[1;32mtry\u001b[0m\u001b[1;33m:\u001b[0m\u001b[1;33m\u001b[0m\u001b[1;33m\u001b[0m\u001b[0m\n",
      "\u001b[1;32m~\\AppData\\Local\\Temp\\ipykernel_15348\\1958077802.py\u001b[0m in \u001b[0;36mInputPos\u001b[1;34m()\u001b[0m\n\u001b[0;32m      1\u001b[0m \u001b[1;32mdef\u001b[0m \u001b[0mInputPos\u001b[0m\u001b[1;33m(\u001b[0m\u001b[1;33m)\u001b[0m\u001b[1;33m:\u001b[0m\u001b[1;33m\u001b[0m\u001b[1;33m\u001b[0m\u001b[0m\n\u001b[0;32m      2\u001b[0m     \u001b[1;32mwhile\u001b[0m \u001b[1;32mTrue\u001b[0m\u001b[1;33m:\u001b[0m\u001b[1;33m\u001b[0m\u001b[1;33m\u001b[0m\u001b[0m\n\u001b[1;32m----> 3\u001b[1;33m         \u001b[0mmove\u001b[0m \u001b[1;33m=\u001b[0m \u001b[0minput\u001b[0m\u001b[1;33m(\u001b[0m\u001b[1;34m\"Saisir la position du mouvement (ex: e2e4 ou g8f6) : \"\u001b[0m\u001b[1;33m)\u001b[0m\u001b[1;33m\u001b[0m\u001b[1;33m\u001b[0m\u001b[0m\n\u001b[0m\u001b[0;32m      4\u001b[0m         \u001b[1;32mif\u001b[0m \u001b[0mlen\u001b[0m\u001b[1;33m(\u001b[0m\u001b[0mmove\u001b[0m\u001b[1;33m)\u001b[0m \u001b[1;32mnot\u001b[0m \u001b[1;32min\u001b[0m \u001b[1;33m[\u001b[0m\u001b[1;36m4\u001b[0m\u001b[1;33m,\u001b[0m \u001b[1;36m5\u001b[0m\u001b[1;33m]\u001b[0m\u001b[1;33m:\u001b[0m\u001b[1;33m\u001b[0m\u001b[1;33m\u001b[0m\u001b[0m\n\u001b[0;32m      5\u001b[0m             \u001b[0mprint\u001b[0m\u001b[1;33m(\u001b[0m\u001b[1;34m\"Erreur : le mouvement doit comporter 4 ou 5 caractères.\"\u001b[0m\u001b[1;33m)\u001b[0m\u001b[1;33m\u001b[0m\u001b[1;33m\u001b[0m\u001b[0m\n",
      "\u001b[1;32m~\\anaconda3\\lib\\site-packages\\ipykernel\\kernelbase.py\u001b[0m in \u001b[0;36mraw_input\u001b[1;34m(self, prompt)\u001b[0m\n\u001b[0;32m   1175\u001b[0m                 \u001b[1;34m\"raw_input was called, but this frontend does not support input requests.\"\u001b[0m\u001b[1;33m\u001b[0m\u001b[1;33m\u001b[0m\u001b[0m\n\u001b[0;32m   1176\u001b[0m             )\n\u001b[1;32m-> 1177\u001b[1;33m         return self._input_request(\n\u001b[0m\u001b[0;32m   1178\u001b[0m             \u001b[0mstr\u001b[0m\u001b[1;33m(\u001b[0m\u001b[0mprompt\u001b[0m\u001b[1;33m)\u001b[0m\u001b[1;33m,\u001b[0m\u001b[1;33m\u001b[0m\u001b[1;33m\u001b[0m\u001b[0m\n\u001b[0;32m   1179\u001b[0m             \u001b[0mself\u001b[0m\u001b[1;33m.\u001b[0m\u001b[0m_parent_ident\u001b[0m\u001b[1;33m[\u001b[0m\u001b[1;34m\"shell\"\u001b[0m\u001b[1;33m]\u001b[0m\u001b[1;33m,\u001b[0m\u001b[1;33m\u001b[0m\u001b[1;33m\u001b[0m\u001b[0m\n",
      "\u001b[1;32m~\\anaconda3\\lib\\site-packages\\ipykernel\\kernelbase.py\u001b[0m in \u001b[0;36m_input_request\u001b[1;34m(self, prompt, ident, parent, password)\u001b[0m\n\u001b[0;32m   1217\u001b[0m             \u001b[1;32mexcept\u001b[0m \u001b[0mKeyboardInterrupt\u001b[0m\u001b[1;33m:\u001b[0m\u001b[1;33m\u001b[0m\u001b[1;33m\u001b[0m\u001b[0m\n\u001b[0;32m   1218\u001b[0m                 \u001b[1;31m# re-raise KeyboardInterrupt, to truncate traceback\u001b[0m\u001b[1;33m\u001b[0m\u001b[1;33m\u001b[0m\u001b[0m\n\u001b[1;32m-> 1219\u001b[1;33m                 \u001b[1;32mraise\u001b[0m \u001b[0mKeyboardInterrupt\u001b[0m\u001b[1;33m(\u001b[0m\u001b[1;34m\"Interrupted by user\"\u001b[0m\u001b[1;33m)\u001b[0m \u001b[1;32mfrom\u001b[0m \u001b[1;32mNone\u001b[0m\u001b[1;33m\u001b[0m\u001b[1;33m\u001b[0m\u001b[0m\n\u001b[0m\u001b[0;32m   1220\u001b[0m             \u001b[1;32mexcept\u001b[0m \u001b[0mException\u001b[0m\u001b[1;33m:\u001b[0m\u001b[1;33m\u001b[0m\u001b[1;33m\u001b[0m\u001b[0m\n\u001b[0;32m   1221\u001b[0m                 \u001b[0mself\u001b[0m\u001b[1;33m.\u001b[0m\u001b[0mlog\u001b[0m\u001b[1;33m.\u001b[0m\u001b[0mwarning\u001b[0m\u001b[1;33m(\u001b[0m\u001b[1;34m\"Invalid Message:\"\u001b[0m\u001b[1;33m,\u001b[0m \u001b[0mexc_info\u001b[0m\u001b[1;33m=\u001b[0m\u001b[1;32mTrue\u001b[0m\u001b[1;33m)\u001b[0m\u001b[1;33m\u001b[0m\u001b[1;33m\u001b[0m\u001b[0m\n",
      "\u001b[1;31mKeyboardInterrupt\u001b[0m: Interrupted by user"
     ]
    }
   ],
   "source": [
    "DisplayBoard = [    [\"R1\", \"N1\", \"B1\", \"Q\", \"K\", \"B2\", \"N2\", \"R2\"],\n",
    "    [\"P1\", \"P2\", \"P3\", \"P4\", \"P5\", \"P6\", \"P7\", \"P8\"],\n",
    "    [\" \", \" \", \" \", \" \", \" \", \" \", \" \", \" \"],\n",
    "    [\" \", \" \", \" \", \" \", \" \", \" \", \" \", \" \"],\n",
    "    [\" \", \" \", \" \", \" \", \" \", \" \", \" \", \" \"],\n",
    "    [\" \", \" \", \" \", \" \", \" \", \" \", \" \", \" \"],\n",
    "    [\"p1\", \"p2\", \"p3\", \"p4\", \"p5\", \"p6\", \"p7\", \"p8\"],\n",
    "    [\"r1\", \"n1\", \"b1\", \"q\", \"k\", \"b2\", \"n2\", \"r2\"]\n",
    "]\n",
    "tour = 1\n",
    "Game(DisplayBoard, tour)"
   ]
  },
  {
   "cell_type": "code",
   "execution_count": null,
   "id": "261d514d",
   "metadata": {},
   "outputs": [],
   "source": [
    "LiveMove(\"mZfCscOr\")"
   ]
  },
  {
   "cell_type": "code",
   "execution_count": null,
   "id": "d91a1eef",
   "metadata": {},
   "outputs": [],
   "source": [
    "MouvEnnemy(8, \"white\", LiveMove(\"mZfCscOr\"))"
   ]
  },
  {
   "cell_type": "code",
   "execution_count": null,
   "id": "5fb1048c",
   "metadata": {},
   "outputs": [],
   "source": [
    "ListMove = LiveMove(\"vYceLdqw\")\n",
    "print(ListMove)\n",
    "if any(result in ListMove for result in [\"0-1\", \"1-0\", \"0,5-0,5\", \"1/2-1/2\"]):\n",
    "    print(\"oui\")\n",
    "else :\n",
    "    print(\"non\")"
   ]
  },
  {
   "cell_type": "code",
   "execution_count": null,
   "id": "8143a138",
   "metadata": {},
   "outputs": [],
   "source": [
    "LiveMove(\"9kFvKBtt\")"
   ]
  },
  {
   "cell_type": "code",
   "execution_count": null,
   "id": "3b75a09a",
   "metadata": {},
   "outputs": [],
   "source": [
    "LiveMove(\"xN9SrAaV\")"
   ]
  },
  {
   "cell_type": "markdown",
   "id": "5905dc36",
   "metadata": {},
   "source": [
    "# _______________________________"
   ]
  },
  {
   "cell_type": "markdown",
   "id": "5b1f7385",
   "metadata": {},
   "source": [
    "# _______________________________"
   ]
  },
  {
   "cell_type": "markdown",
   "id": "ad5f92ab",
   "metadata": {},
   "source": [
    "# _______________________________"
   ]
  },
  {
   "cell_type": "raw",
   "id": "1ae565e1",
   "metadata": {},
   "source": [
    "from lichess.format import PYCHESS\n",
    "game = lichess.api.game(id_game, format=PYCHESS)\n",
    "print(game)\n",
    "type(game.end().board())"
   ]
  },
  {
   "cell_type": "raw",
   "id": "4754913c",
   "metadata": {
    "scrolled": true
   },
   "source": [
    "print(game.end().board())"
   ]
  },
  {
   "cell_type": "raw",
   "id": "e58ff0c9",
   "metadata": {},
   "source": [
    "print(game)"
   ]
  },
  {
   "cell_type": "raw",
   "id": "eb481c43",
   "metadata": {},
   "source": [
    "board = str(game.end().board())\n",
    "board"
   ]
  },
  {
   "cell_type": "markdown",
   "id": "56c48d64",
   "metadata": {},
   "source": [
    "# _______________________________"
   ]
  },
  {
   "cell_type": "markdown",
   "id": "1863d841",
   "metadata": {},
   "source": [
    "# _______________________________"
   ]
  },
  {
   "cell_type": "markdown",
   "id": "ea189c1f",
   "metadata": {},
   "source": [
    "# _______________________________"
   ]
  },
  {
   "cell_type": "raw",
   "id": "a3afd3c5",
   "metadata": {
    "scrolled": false
   },
   "source": [
    "import requests\n",
    "\n",
    "# Fonction pour obtenir les mouvements d'une partie en format PGN\n",
    "def get_pgn(game_id):\n",
    "    response = requests.get(f'https://lichess.org/{game_id}')\n",
    "    pgn = response.text\n",
    "    return pgn\n",
    "\n",
    "# Exemple d'utilisation de la fonction\n",
    "game_id = id_game\n",
    "pgn = get_pgn(game_id)\n",
    "print(pgn)\n"
   ]
  },
  {
   "cell_type": "raw",
   "id": "e002375c",
   "metadata": {},
   "source": [
    "PGN = str(pgn)\n",
    "PGN"
   ]
  },
  {
   "cell_type": "raw",
   "id": "4801b6e5",
   "metadata": {},
   "source": [
    "text = PGN\n",
    "start = text.find(\"1. \")\n",
    "substring = text[start:]\n",
    "print(substring)"
   ]
  },
  {
   "cell_type": "raw",
   "id": "644cfffe",
   "metadata": {},
   "source": [
    "text = substring\n",
    "moves = text.split(\"</div>\")[0]\n",
    "print(moves)"
   ]
  },
  {
   "cell_type": "raw",
   "id": "0c634db1",
   "metadata": {},
   "source": [
    "import requests\n",
    "\n",
    "# Fonction pour obtenir les mouvements d'une partie en format PGN et l'enregistrer dans un fichier\n",
    "def get_pgn_file(game_id, file_path):\n",
    "    response = requests.get(f'https://lichess.org/{game_id}')\n",
    "    pgn = response.text\n",
    "    with open(file_path, 'w', encoding='utf-8') as f:\n",
    "        f.write(pgn)\n",
    "\n",
    "# Exemple d'utilisation de la fonction\n",
    "game_id = \"JXSzhJz8\"\n",
    "file_path = \"C:\\\\Users\\\\thoma\\\\OneDrive\\\\Bureau\\\\partie.pgn\"\n",
    "get_pgn_file(game_id, file_path)"
   ]
  },
  {
   "cell_type": "markdown",
   "id": "088af067",
   "metadata": {},
   "source": [
    "# ____________________________________________________________________________________________________________________________________________________________________________________________________________\n"
   ]
  },
  {
   "cell_type": "markdown",
   "id": "11583484",
   "metadata": {},
   "source": [
    "# ____________________________________________________________________________________________________________________________________________________________________________________________________________\n"
   ]
  },
  {
   "cell_type": "markdown",
   "id": "0b5a102f",
   "metadata": {},
   "source": [
    "# ____________________________________________________________________________________________________________________________________________________________________________________________________________\n"
   ]
  },
  {
   "cell_type": "raw",
   "id": "2bcfcb5a",
   "metadata": {},
   "source": [
    "import serial\n",
    "import time\n",
    "\n",
    "serialcomm = serial.Serial('COM3',9600)\n",
    "serialcomm.timeout = 1\n",
    "\n",
    "while True:\n",
    "    i = \"position_pion\".strip()\n",
    "    if i == 'done':\n",
    "        print (\"finished program\")\n",
    "        break\n",
    "    serialcomm.write(i.encode())\n",
    "    time.sleep(0.5)\n",
    "    print(serialcomm.readline().decode('ascii'))\n",
    "    client.bots.make_move(id_game, serialcomm.readline().decode('ascii'))\n",
    "    \n",
    "serialcomm.close ()\n"
   ]
  },
  {
   "cell_type": "raw",
   "id": "58b34c74",
   "metadata": {},
   "source": [
    "partiefinie = False\n",
    "\n",
    "while partiefinie != True :\n",
    "    data = ser.readline().decode()\n",
    "    print(data)\n",
    "    partiefinie = True"
   ]
  },
  {
   "cell_type": "raw",
   "id": "62f13d5b",
   "metadata": {},
   "source": [
    "import serial\n",
    "import time\n",
    "\n",
    "# Ouvrir une connexion au port série\n",
    "ser = serial.Serial(\"COM3\", 9600, timeout = 5) # remplacer \"COM3\" avec le nom du port série correct\n",
    "\n",
    "# Envoyer une commande à l'Arduino\n",
    "ser.write(\"get_data\\n\".encode(\"utf-8\"))\n",
    "\n",
    "time.sleep(0.1) # Ajout d'un délai de 0,1 seconde\n",
    "\n",
    "# Lire la réponse de l'Arduino\n",
    "while True :\n",
    "    response = ser.readline().decode('utf-8')\n",
    "    print(\"Réponse de l'Arduino :\", response)\n",
    "\n",
    "time.sleep(0.1) # Ajout d'un délai de 0,1 seconde\n",
    "\n",
    "# Afficher la réponse\n",
    "print(\"Réponse de l'Arduino :\", response)\n",
    "\n",
    "time.sleep(0.1) # Ajout d'un délai de 0,1 seconde\n",
    "\n",
    "# Fermer la connexion\n",
    "ser.close()\n"
   ]
  },
  {
   "cell_type": "code",
   "execution_count": null,
   "id": "ed6c3226",
   "metadata": {},
   "outputs": [],
   "source": []
  },
  {
   "cell_type": "raw",
   "id": "da1b7786",
   "metadata": {},
   "source": [
    "import serial\n",
    "\n",
    "ser = serial.Serial('COM3', 9600) # change 'COM3' to the appropriate port for your system\n",
    "l = ser.write(b'get_data') # send the request to the Arduino\n",
    "\n",
    "print(l)\n",
    "data = ser.readline()\n",
    "print(data)\n",
    "response = data.decode().strip() # decode the response and remove any leading/trailing whitespaces\n",
    "\n",
    "print(response)\n",
    "ser.close()\n"
   ]
  },
  {
   "cell_type": "code",
   "execution_count": null,
   "id": "00902112",
   "metadata": {},
   "outputs": [],
   "source": []
  },
  {
   "cell_type": "code",
   "execution_count": null,
   "id": "57556d18",
   "metadata": {},
   "outputs": [],
   "source": []
  },
  {
   "cell_type": "code",
   "execution_count": null,
   "id": "6e224b73",
   "metadata": {},
   "outputs": [],
   "source": []
  },
  {
   "cell_type": "code",
   "execution_count": null,
   "id": "664c4c4c",
   "metadata": {},
   "outputs": [],
   "source": []
  }
 ],
 "metadata": {
  "kernelspec": {
   "display_name": "Python 3 (ipykernel)",
   "language": "python",
   "name": "python3"
  },
  "language_info": {
   "codemirror_mode": {
    "name": "ipython",
    "version": 3
   },
   "file_extension": ".py",
   "mimetype": "text/x-python",
   "name": "python",
   "nbconvert_exporter": "python",
   "pygments_lexer": "ipython3",
   "version": "3.9.13"
  }
 },
 "nbformat": 4,
 "nbformat_minor": 5
}
